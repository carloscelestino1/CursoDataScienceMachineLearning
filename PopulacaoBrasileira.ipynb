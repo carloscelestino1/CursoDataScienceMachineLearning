{
  "nbformat": 4,
  "nbformat_minor": 0,
  "metadata": {
    "colab": {
      "name": "PopulacaoBr.ipynb",
      "provenance": [],
      "collapsed_sections": [],
      "authorship_tag": "ABX9TyNYNzlvFUvw3luITxy23Auu",
      "include_colab_link": true
    },
    "kernelspec": {
      "name": "python3",
      "display_name": "Python 3"
    },
    "language_info": {
      "name": "python"
    }
  },
  "cells": [
    {
      "cell_type": "markdown",
      "metadata": {
        "id": "view-in-github",
        "colab_type": "text"
      },
      "source": [
        "<a href=\"https://colab.research.google.com/github/carloscelestino1/DataScience-and-ML/blob/main/PopulacaoBrasileira.ipynb\" target=\"_parent\"><img src=\"https://colab.research.google.com/assets/colab-badge.svg\" alt=\"Open In Colab\"/></a>"
      ]
    },
    {
      "cell_type": "code",
      "execution_count": 1,
      "metadata": {
        "id": "X3DlmO3IkWS2"
      },
      "outputs": [],
      "source": [
        "#crescimento da população Brasileira 1980 - 2016\n",
        "#fonte: Datasus"
      ]
    },
    {
      "cell_type": "code",
      "source": [
        "dados = open('populacao_brasileira.csv').readlines()"
      ],
      "metadata": {
        "id": "A32tZhtAke8a"
      },
      "execution_count": 6,
      "outputs": []
    },
    {
      "cell_type": "code",
      "source": [
        "x = []\n",
        "y = []"
      ],
      "metadata": {
        "id": "ei8xvS3olPtI"
      },
      "execution_count": 7,
      "outputs": []
    },
    {
      "cell_type": "code",
      "source": [
        "for i in range(len(dados)):\n",
        "  if i != 0:\n",
        "    linha = dados[i].split(';')#separa os dados apos ; e cria uma tupla com os valores\n",
        "    x.append(int(linha[0]))\n",
        "    y.append(int(linha[1]))"
      ],
      "metadata": {
        "id": "dyCXZW--lP3Q"
      },
      "execution_count": 9,
      "outputs": []
    },
    {
      "cell_type": "code",
      "source": [
        "import matplotlib.pyplot as plt\n"
      ],
      "metadata": {
        "id": "RfNhq4hOlP8Y"
      },
      "execution_count": 11,
      "outputs": []
    },
    {
      "cell_type": "code",
      "source": [
        "plt.plot(x,y)\n",
        "plt.bar(x,y, color='#e4e4e4')\n",
        "plt.title('Crescimento da população Brasileira 1980 - 2016')\n",
        "plt.xlabel('Ano')\n",
        "plt.ylabel('População x 100.000.000')\n"
      ],
      "metadata": {
        "colab": {
          "base_uri": "https://localhost:8080/",
          "height": 312
        },
        "id": "w3S7zGclmTfF",
        "outputId": "e3396e72-9a39-40cc-c512-5effb2269def"
      },
      "execution_count": 17,
      "outputs": [
        {
          "output_type": "execute_result",
          "data": {
            "text/plain": [
              "<BarContainer object of 37 artists>"
            ]
          },
          "metadata": {},
          "execution_count": 17
        },
        {
          "output_type": "display_data",
          "data": {
            "text/plain": [
              "<Figure size 432x288 with 1 Axes>"
            ],
            "image/png": "[encoded data removed]"
          },
          "metadata": {
            "needs_background": "light"
          }
        }
      ]
    },
    {
      "cell_type": "code",
      "source": [],
      "metadata": {
        "id": "QgVuDN0elP_K"
      },
      "execution_count": null,
      "outputs": []
    }
  ]
}