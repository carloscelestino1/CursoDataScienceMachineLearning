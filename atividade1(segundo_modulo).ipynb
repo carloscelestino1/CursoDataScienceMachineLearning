{
  "nbformat": 4,
  "nbformat_minor": 0,
  "metadata": {
    "colab": {
      "provenance": [],
      "authorship_tag": "ABX9TyMBzt87PPosE6wNBAAkN8XZ",
      "include_colab_link": true
    },
    "kernelspec": {
      "name": "python3",
      "display_name": "Python 3"
    },
    "language_info": {
      "name": "python"
    }
  },
  "cells": [
    {
      "cell_type": "markdown",
      "metadata": {
        "id": "view-in-github",
        "colab_type": "text"
      },
      "source": [
        "<a href=\"https://colab.research.google.com/github/carloscelestino1/CursoDataScienceMachineLearning/blob/main/atividade1(segundo_modulo).ipynb\" target=\"_parent\"><img src=\"https://colab.research.google.com/assets/colab-badge.svg\" alt=\"Open In Colab\"/></a>"
      ]
    },
    {
      "cell_type": "markdown",
      "source": [
        "Fuctura\n",
        "\n",
        "1- Import o Numpy\n",
        "\n",
        "2 - Utilize a função range do python para criar automaticamente uma lista de\n",
        "números variando de 0 até 15.\n",
        "\n",
        "3 - Converta a lista criada para um objeto do tipo numpy array.\n",
        "\n",
        "4 - Crie um novo array equivalente ao anterior utilizando diretamente os\n",
        "recursos do numpy.\n",
        "\n",
        "5 - Crie um array de 10 zeros\n",
        "\n",
        "6 - Crie um array de 10 números \"um\".\n",
        "\n",
        "7 - Crie um array de 10 números \"5\"\n",
        "\n",
        "8 - Crie um array de inteiros de 10 até 50\n",
        "\n",
        "9 - Crie uma matriz identidade 3x3"
      ],
      "metadata": {
        "id": "JY0MPVC8RFdg"
      }
    },
    {
      "cell_type": "code",
      "source": [
        "# 1)\n",
        "import numpy as np"
      ],
      "metadata": {
        "id": "2-uovOWXRU2H"
      },
      "execution_count": 1,
      "outputs": []
    },
    {
      "cell_type": "code",
      "source": [
        "# 2)\n",
        "lista = list(range(0,16))\n",
        "lista"
      ],
      "metadata": {
        "colab": {
          "base_uri": "https://localhost:8080/"
        },
        "id": "gCJkPqX1RVBu",
        "outputId": "79640a3d-3b91-44c8-d2c8-3d449b0ecd66"
      },
      "execution_count": 4,
      "outputs": [
        {
          "output_type": "execute_result",
          "data": {
            "text/plain": [
              "[0, 1, 2, 3, 4, 5, 6, 7, 8, 9, 10, 11, 12, 13, 14, 15]"
            ]
          },
          "metadata": {},
          "execution_count": 4
        }
      ]
    },
    {
      "cell_type": "code",
      "source": [
        "# 3)\n",
        "lista_array = np.array(lista)\n",
        "lista_array"
      ],
      "metadata": {
        "colab": {
          "base_uri": "https://localhost:8080/"
        },
        "id": "U4Ry9N8zSAg1",
        "outputId": "06d68f75-3e86-4207-e7bf-6d0a2a70be17"
      },
      "execution_count": 8,
      "outputs": [
        {
          "output_type": "execute_result",
          "data": {
            "text/plain": [
              "array([ 0,  1,  2,  3,  4,  5,  6,  7,  8,  9, 10, 11, 12, 13, 14, 15])"
            ]
          },
          "metadata": {},
          "execution_count": 8
        }
      ]
    },
    {
      "cell_type": "code",
      "source": [
        "# 4)\n",
        "array = np.array(range(0,16))\n",
        "array"
      ],
      "metadata": {
        "colab": {
          "base_uri": "https://localhost:8080/"
        },
        "id": "EdMja5ctSAjU",
        "outputId": "6ef4e2d4-d6f8-4d3f-a12d-ca2e91b3ac2d"
      },
      "execution_count": 9,
      "outputs": [
        {
          "output_type": "execute_result",
          "data": {
            "text/plain": [
              "array([ 0,  1,  2,  3,  4,  5,  6,  7,  8,  9, 10, 11, 12, 13, 14, 15])"
            ]
          },
          "metadata": {},
          "execution_count": 9
        }
      ]
    },
    {
      "cell_type": "code",
      "source": [
        "# 5)\n",
        "array2 = np.array([0]*10)\n",
        "array2"
      ],
      "metadata": {
        "colab": {
          "base_uri": "https://localhost:8080/"
        },
        "id": "8EzMxXVJSAlt",
        "outputId": "fd70936b-85a0-41dd-963c-7ce128be2f7e"
      },
      "execution_count": 22,
      "outputs": [
        {
          "output_type": "execute_result",
          "data": {
            "text/plain": [
              "array([0, 0, 0, 0, 0, 0, 0, 0, 0, 0])"
            ]
          },
          "metadata": {},
          "execution_count": 22
        }
      ]
    },
    {
      "cell_type": "code",
      "source": [
        "# 6)\n",
        "array3 = np.array(['um']*10)\n",
        "array3"
      ],
      "metadata": {
        "colab": {
          "base_uri": "https://localhost:8080/"
        },
        "id": "J4r54wgOSAoP",
        "outputId": "d1d0bbc0-79b0-49ef-ce5c-e8074de10425"
      },
      "execution_count": 23,
      "outputs": [
        {
          "output_type": "execute_result",
          "data": {
            "text/plain": [
              "array(['um', 'um', 'um', 'um', 'um', 'um', 'um', 'um', 'um', 'um'],\n",
              "      dtype='<U2')"
            ]
          },
          "metadata": {},
          "execution_count": 23
        }
      ]
    },
    {
      "cell_type": "code",
      "source": [
        "# 7)\n",
        "array4 = np.array([5]*10)\n",
        "array4"
      ],
      "metadata": {
        "colab": {
          "base_uri": "https://localhost:8080/"
        },
        "id": "cfrqyuh-SAqt",
        "outputId": "609bc9f6-dfd3-4993-9a4c-c3911d5e329a"
      },
      "execution_count": 24,
      "outputs": [
        {
          "output_type": "execute_result",
          "data": {
            "text/plain": [
              "array([5, 5, 5, 5, 5, 5, 5, 5, 5, 5])"
            ]
          },
          "metadata": {},
          "execution_count": 24
        }
      ]
    },
    {
      "cell_type": "code",
      "source": [
        "# 8)\n",
        "array5 = np.array(range(10,51))\n",
        "array5"
      ],
      "metadata": {
        "colab": {
          "base_uri": "https://localhost:8080/"
        },
        "id": "uPgM7pV9SAtB",
        "outputId": "1de84baa-1591-43c2-d834-216014324bf0"
      },
      "execution_count": 25,
      "outputs": [
        {
          "output_type": "execute_result",
          "data": {
            "text/plain": [
              "array([10, 11, 12, 13, 14, 15, 16, 17, 18, 19, 20, 21, 22, 23, 24, 25, 26,\n",
              "       27, 28, 29, 30, 31, 32, 33, 34, 35, 36, 37, 38, 39, 40, 41, 42, 43,\n",
              "       44, 45, 46, 47, 48, 49, 50])"
            ]
          },
          "metadata": {},
          "execution_count": 25
        }
      ]
    },
    {
      "cell_type": "code",
      "source": [
        "from numpy import *"
      ],
      "metadata": {
        "id": "zpWjbABsSAx8"
      },
      "execution_count": 26,
      "outputs": []
    },
    {
      "cell_type": "code",
      "source": [
        "# 9)\n",
        "matriz = identity(3, dtype=int)\n",
        "matriz"
      ],
      "metadata": {
        "colab": {
          "base_uri": "https://localhost:8080/"
        },
        "id": "UIt5IhaGSA0X",
        "outputId": "f9c84a54-e1a1-48a3-e528-47f1a9febc13"
      },
      "execution_count": 28,
      "outputs": [
        {
          "output_type": "execute_result",
          "data": {
            "text/plain": [
              "array([[1, 0, 0],\n",
              "       [0, 1, 0],\n",
              "       [0, 0, 1]])"
            ]
          },
          "metadata": {},
          "execution_count": 28
        }
      ]
    }
  ]
}