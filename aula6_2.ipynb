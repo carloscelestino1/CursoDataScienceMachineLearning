{
  "nbformat": 4,
  "nbformat_minor": 0,
  "metadata": {
    "colab": {
      "provenance": [],
      "authorship_tag": "ABX9TyOBAJOae+oru93RLmr1Xvd4",
      "include_colab_link": true
    },
    "kernelspec": {
      "name": "python3",
      "display_name": "Python 3"
    },
    "language_info": {
      "name": "python"
    }
  },
  "cells": [
    {
      "cell_type": "markdown",
      "metadata": {
        "id": "view-in-github",
        "colab_type": "text"
      },
      "source": [
        "<a href=\"https://colab.research.google.com/github/carloscelestino1/DataScience-and-ML/blob/main/aula6_2.ipynb\" target=\"_parent\"><img src=\"https://colab.research.google.com/assets/colab-badge.svg\" alt=\"Open In Colab\"/></a>"
      ]
    },
    {
      "cell_type": "code",
      "execution_count": 1,
      "metadata": {
        "id": "G1Yjj5sOyMhy"
      },
      "outputs": [],
      "source": [
        "import pandas as pd\n"
      ]
    },
    {
      "cell_type": "code",
      "source": [
        "!pip install requests-html"
      ],
      "metadata": {
        "id": "UKg3W_P5yQuF"
      },
      "execution_count": null,
      "outputs": []
    },
    {
      "cell_type": "code",
      "source": [
        "import requests_html"
      ],
      "metadata": {
        "id": "s_zHzWLvyQwd"
      },
      "execution_count": 2,
      "outputs": []
    },
    {
      "cell_type": "markdown",
      "source": [
        "# Conectando com a url"
      ],
      "metadata": {
        "id": "jFIAQFAOzJ7n"
      }
    },
    {
      "cell_type": "code",
      "source": [
        "from requests_html import HTMLSession"
      ],
      "metadata": {
        "id": "giLRcCXwyQzS"
      },
      "execution_count": 3,
      "outputs": []
    },
    {
      "cell_type": "code",
      "source": [
        "url = 'https://pt.wikipedia.org/wiki/Lista_de_parlamentares_de_Pernambuco'"
      ],
      "metadata": {
        "id": "2dLdnHfJyQ2H"
      },
      "execution_count": 4,
      "outputs": []
    },
    {
      "cell_type": "code",
      "source": [
        "df = pd.read_html(url)\n",
        "df"
      ],
      "metadata": {
        "id": "RxXlSvXYyQ5A"
      },
      "execution_count": null,
      "outputs": []
    },
    {
      "cell_type": "code",
      "source": [
        "print(f'Número de Dataframes: {len(df)}')"
      ],
      "metadata": {
        "colab": {
          "base_uri": "https://localhost:8080/"
        },
        "id": "iMjhMMeeyQ7Z",
        "outputId": "2ca0f1d2-b419-4760-e4df-44f56329395c"
      },
      "execution_count": 7,
      "outputs": [
        {
          "output_type": "stream",
          "name": "stdout",
          "text": [
            "Número de Dataframes: 4\n"
          ]
        }
      ]
    },
    {
      "cell_type": "code",
      "source": [
        "df[1].info()"
      ],
      "metadata": {
        "colab": {
          "base_uri": "https://localhost:8080/"
        },
        "id": "heHnN_ZOyQ-R",
        "outputId": "cd9f3f98-4d0e-4dc1-cef4-e6ec9a3fb74e"
      },
      "execution_count": 8,
      "outputs": [
        {
          "output_type": "stream",
          "name": "stdout",
          "text": [
            "<class 'pandas.core.frame.DataFrame'>\n",
            "RangeIndex: 187 entries, 0 to 186\n",
            "Data columns (total 5 columns):\n",
            " #   Column                      Non-Null Count  Dtype \n",
            "---  ------                      --------------  ----- \n",
            " 0   Deputados federais eleitos  187 non-null    object\n",
            " 1   Naturalidade                187 non-null    object\n",
            " 2   Mandatos                    187 non-null    object\n",
            " 3   Ano da eleição              187 non-null    object\n",
            " 4   Notas                       33 non-null     object\n",
            "dtypes: object(5)\n",
            "memory usage: 7.4+ KB\n"
          ]
        }
      ]
    },
    {
      "cell_type": "code",
      "source": [
        "deputados_pe = df[1]\n",
        "deputados_pe"
      ],
      "metadata": {
        "colab": {
          "base_uri": "https://localhost:8080/",
          "height": 424
        },
        "id": "uSzfUpZiyRA-",
        "outputId": "f6688a7d-7ed7-4033-9967-6ae41711c873"
      },
      "execution_count": 9,
      "outputs": [
        {
          "output_type": "execute_result",
          "data": {
            "text/plain": [
              "    Deputados federais eleitos        Naturalidade      Mandatos  \\\n",
              "0           Inocêncio Oliveira   Serra Talhada, PE            10   \n",
              "1               Osvaldo Coelho        Juazeiro, BA            08   \n",
              "2                Ricardo Fiuza       Fortaleza, CE            08   \n",
              "3             Gonzaga Patriota        Sertânia, PE            08   \n",
              "4        José Mendonça Bezerra     Belo Jardim, PE            07   \n",
              "..                         ...                 ...           ...   \n",
              "182             Marília Arraes          Recife, PE            01   \n",
              "183              Ossesio Silva  Rio de Janeiro, RJ            01   \n",
              "184         Sílvio Costa Filho          Recife, PE            01   \n",
              "185              Túlio Gadêlha          Recife, PE            01   \n",
              "186               Fonte:[2][3]        Fonte:[2][3]  Fonte:[2][3]   \n",
              "\n",
              "                                        Ano da eleição         Notas  \n",
              "0    1974, 1978, 1982, 1986, 1990, 1994, 1998, 2002...           NaN  \n",
              "1       1966, 1978, 1982, 1986, 1990, 1994, 1998, 2002           NaN  \n",
              "2       1970, 1974, 1978, 1982, 1986, 1990, 1998, 2002     [nota 11]  \n",
              "3       1986, 1994, 1998, 2002, 2006, 2010, 2014, 2018           NaN  \n",
              "4             1982, 1986, 1990, 1994, 1998, 2002, 2006           NaN  \n",
              "..                                                 ...           ...  \n",
              "182                                               2018           NaN  \n",
              "183                                               2018           NaN  \n",
              "184                                               2018           NaN  \n",
              "185                                               2018           NaN  \n",
              "186                                       Fonte:[2][3]  Fonte:[2][3]  \n",
              "\n",
              "[187 rows x 5 columns]"
            ],
            "text/html": [
              "\n",
              "  <div id=\"df-a5e8cf1f-970d-4d5f-a05d-aa54f3c8a59d\">\n",
              "    <div class=\"colab-df-container\">\n",
              "      <div>\n",
              "<style scoped>\n",
              "    .dataframe tbody tr th:only-of-type {\n",
              "        vertical-align: middle;\n",
              "    }\n",
              "\n",
              "    .dataframe tbody tr th {\n",
              "        vertical-align: top;\n",
              "    }\n",
              "\n",
              "    .dataframe thead th {\n",
              "        text-align: right;\n",
              "    }\n",
              "</style>\n",
              "<table border=\"1\" class=\"dataframe\">\n",
              "  <thead>\n",
              "    <tr style=\"text-align: right;\">\n",
              "      <th></th>\n",
              "      <th>Deputados federais eleitos</th>\n",
              "      <th>Naturalidade</th>\n",
              "      <th>Mandatos</th>\n",
              "      <th>Ano da eleição</th>\n",
              "      <th>Notas</th>\n",
              "    </tr>\n",
              "  </thead>\n",
              "  <tbody>\n",
              "    <tr>\n",
              "      <th>0</th>\n",
              "      <td>Inocêncio Oliveira</td>\n",
              "      <td>Serra Talhada, PE</td>\n",
              "      <td>10</td>\n",
              "      <td>1974, 1978, 1982, 1986, 1990, 1994, 1998, 2002...</td>\n",
              "      <td>NaN</td>\n",
              "    </tr>\n",
              "    <tr>\n",
              "      <th>1</th>\n",
              "      <td>Osvaldo Coelho</td>\n",
              "      <td>Juazeiro, BA</td>\n",
              "      <td>08</td>\n",
              "      <td>1966, 1978, 1982, 1986, 1990, 1994, 1998, 2002</td>\n",
              "      <td>NaN</td>\n",
              "    </tr>\n",
              "    <tr>\n",
              "      <th>2</th>\n",
              "      <td>Ricardo Fiuza</td>\n",
              "      <td>Fortaleza, CE</td>\n",
              "      <td>08</td>\n",
              "      <td>1970, 1974, 1978, 1982, 1986, 1990, 1998, 2002</td>\n",
              "      <td>[nota 11]</td>\n",
              "    </tr>\n",
              "    <tr>\n",
              "      <th>3</th>\n",
              "      <td>Gonzaga Patriota</td>\n",
              "      <td>Sertânia, PE</td>\n",
              "      <td>08</td>\n",
              "      <td>1986, 1994, 1998, 2002, 2006, 2010, 2014, 2018</td>\n",
              "      <td>NaN</td>\n",
              "    </tr>\n",
              "    <tr>\n",
              "      <th>4</th>\n",
              "      <td>José Mendonça Bezerra</td>\n",
              "      <td>Belo Jardim, PE</td>\n",
              "      <td>07</td>\n",
              "      <td>1982, 1986, 1990, 1994, 1998, 2002, 2006</td>\n",
              "      <td>NaN</td>\n",
              "    </tr>\n",
              "    <tr>\n",
              "      <th>...</th>\n",
              "      <td>...</td>\n",
              "      <td>...</td>\n",
              "      <td>...</td>\n",
              "      <td>...</td>\n",
              "      <td>...</td>\n",
              "    </tr>\n",
              "    <tr>\n",
              "      <th>182</th>\n",
              "      <td>Marília Arraes</td>\n",
              "      <td>Recife, PE</td>\n",
              "      <td>01</td>\n",
              "      <td>2018</td>\n",
              "      <td>NaN</td>\n",
              "    </tr>\n",
              "    <tr>\n",
              "      <th>183</th>\n",
              "      <td>Ossesio Silva</td>\n",
              "      <td>Rio de Janeiro, RJ</td>\n",
              "      <td>01</td>\n",
              "      <td>2018</td>\n",
              "      <td>NaN</td>\n",
              "    </tr>\n",
              "    <tr>\n",
              "      <th>184</th>\n",
              "      <td>Sílvio Costa Filho</td>\n",
              "      <td>Recife, PE</td>\n",
              "      <td>01</td>\n",
              "      <td>2018</td>\n",
              "      <td>NaN</td>\n",
              "    </tr>\n",
              "    <tr>\n",
              "      <th>185</th>\n",
              "      <td>Túlio Gadêlha</td>\n",
              "      <td>Recife, PE</td>\n",
              "      <td>01</td>\n",
              "      <td>2018</td>\n",
              "      <td>NaN</td>\n",
              "    </tr>\n",
              "    <tr>\n",
              "      <th>186</th>\n",
              "      <td>Fonte:[2][3]</td>\n",
              "      <td>Fonte:[2][3]</td>\n",
              "      <td>Fonte:[2][3]</td>\n",
              "      <td>Fonte:[2][3]</td>\n",
              "      <td>Fonte:[2][3]</td>\n",
              "    </tr>\n",
              "  </tbody>\n",
              "</table>\n",
              "<p>187 rows × 5 columns</p>\n",
              "</div>\n",
              "      <button class=\"colab-df-convert\" onclick=\"convertToInteractive('df-a5e8cf1f-970d-4d5f-a05d-aa54f3c8a59d')\"\n",
              "              title=\"Convert this dataframe to an interactive table.\"\n",
              "              style=\"display:none;\">\n",
              "        \n",
              "  <svg xmlns=\"http://www.w3.org/2000/svg\" height=\"24px\"viewBox=\"0 0 24 24\"\n",
              "       width=\"24px\">\n",
              "    <path d=\"M0 0h24v24H0V0z\" fill=\"none\"/>\n",
              "    <path d=\"M18.56 5.44l.94 2.06.94-2.06 2.06-.94-2.06-.94-.94-2.06-.94 2.06-2.06.94zm-11 1L8.5 8.5l.94-2.06 2.06-.94-2.06-.94L8.5 2.5l-.94 2.06-2.06.94zm10 10l.94 2.06.94-2.06 2.06-.94-2.06-.94-.94-2.06-.94 2.06-2.06.94z\"/><path d=\"M17.41 7.96l-1.37-1.37c-.4-.4-.92-.59-1.43-.59-.52 0-1.04.2-1.43.59L10.3 9.45l-7.72 7.72c-.78.78-.78 2.05 0 2.83L4 21.41c.39.39.9.59 1.41.59.51 0 1.02-.2 1.41-.59l7.78-7.78 2.81-2.81c.8-.78.8-2.07 0-2.86zM5.41 20L4 18.59l7.72-7.72 1.47 1.35L5.41 20z\"/>\n",
              "  </svg>\n",
              "      </button>\n",
              "      \n",
              "  <style>\n",
              "    .colab-df-container {\n",
              "      display:flex;\n",
              "      flex-wrap:wrap;\n",
              "      gap: 12px;\n",
              "    }\n",
              "\n",
              "    .colab-df-convert {\n",
              "      background-color: #E8F0FE;\n",
              "      border: none;\n",
              "      border-radius: 50%;\n",
              "      cursor: pointer;\n",
              "      display: none;\n",
              "      fill: #1967D2;\n",
              "      height: 32px;\n",
              "      padding: 0 0 0 0;\n",
              "      width: 32px;\n",
              "    }\n",
              "\n",
              "    .colab-df-convert:hover {\n",
              "      background-color: #E2EBFA;\n",
              "      box-shadow: 0px 1px 2px rgba(60, 64, 67, 0.3), 0px 1px 3px 1px rgba(60, 64, 67, 0.15);\n",
              "      fill: #174EA6;\n",
              "    }\n",
              "\n",
              "    [theme=dark] .colab-df-convert {\n",
              "      background-color: #3B4455;\n",
              "      fill: #D2E3FC;\n",
              "    }\n",
              "\n",
              "    [theme=dark] .colab-df-convert:hover {\n",
              "      background-color: #434B5C;\n",
              "      box-shadow: 0px 1px 3px 1px rgba(0, 0, 0, 0.15);\n",
              "      filter: drop-shadow(0px 1px 2px rgba(0, 0, 0, 0.3));\n",
              "      fill: #FFFFFF;\n",
              "    }\n",
              "  </style>\n",
              "\n",
              "      <script>\n",
              "        const buttonEl =\n",
              "          document.querySelector('#df-a5e8cf1f-970d-4d5f-a05d-aa54f3c8a59d button.colab-df-convert');\n",
              "        buttonEl.style.display =\n",
              "          google.colab.kernel.accessAllowed ? 'block' : 'none';\n",
              "\n",
              "        async function convertToInteractive(key) {\n",
              "          const element = document.querySelector('#df-a5e8cf1f-970d-4d5f-a05d-aa54f3c8a59d');\n",
              "          const dataTable =\n",
              "            await google.colab.kernel.invokeFunction('convertToInteractive',\n",
              "                                                     [key], {});\n",
              "          if (!dataTable) return;\n",
              "\n",
              "          const docLinkHtml = 'Like what you see? Visit the ' +\n",
              "            '<a target=\"_blank\" href=https://colab.research.google.com/notebooks/data_table.ipynb>data table notebook</a>'\n",
              "            + ' to learn more about interactive tables.';\n",
              "          element.innerHTML = '';\n",
              "          dataTable['output_type'] = 'display_data';\n",
              "          await google.colab.output.renderOutput(dataTable, element);\n",
              "          const docLink = document.createElement('div');\n",
              "          docLink.innerHTML = docLinkHtml;\n",
              "          element.appendChild(docLink);\n",
              "        }\n",
              "      </script>\n",
              "    </div>\n",
              "  </div>\n",
              "  "
            ]
          },
          "metadata": {},
          "execution_count": 9
        }
      ]
    },
    {
      "cell_type": "code",
      "source": [
        "deputados_pe.head()"
      ],
      "metadata": {
        "colab": {
          "base_uri": "https://localhost:8080/",
          "height": 206
        },
        "id": "2QqSdt3xyRDe",
        "outputId": "81fe8479-bff4-466d-dde8-6e2960f5d41f"
      },
      "execution_count": 10,
      "outputs": [
        {
          "output_type": "execute_result",
          "data": {
            "text/plain": [
              "  Deputados federais eleitos       Naturalidade Mandatos  \\\n",
              "0         Inocêncio Oliveira  Serra Talhada, PE       10   \n",
              "1             Osvaldo Coelho       Juazeiro, BA       08   \n",
              "2              Ricardo Fiuza      Fortaleza, CE       08   \n",
              "3           Gonzaga Patriota       Sertânia, PE       08   \n",
              "4      José Mendonça Bezerra    Belo Jardim, PE       07   \n",
              "\n",
              "                                      Ano da eleição      Notas  \n",
              "0  1974, 1978, 1982, 1986, 1990, 1994, 1998, 2002...        NaN  \n",
              "1     1966, 1978, 1982, 1986, 1990, 1994, 1998, 2002        NaN  \n",
              "2     1970, 1974, 1978, 1982, 1986, 1990, 1998, 2002  [nota 11]  \n",
              "3     1986, 1994, 1998, 2002, 2006, 2010, 2014, 2018        NaN  \n",
              "4           1982, 1986, 1990, 1994, 1998, 2002, 2006        NaN  "
            ],
            "text/html": [
              "\n",
              "  <div id=\"df-7939dffb-2f0d-4cd2-a3f2-bf1587fce2d2\">\n",
              "    <div class=\"colab-df-container\">\n",
              "      <div>\n",
              "<style scoped>\n",
              "    .dataframe tbody tr th:only-of-type {\n",
              "        vertical-align: middle;\n",
              "    }\n",
              "\n",
              "    .dataframe tbody tr th {\n",
              "        vertical-align: top;\n",
              "    }\n",
              "\n",
              "    .dataframe thead th {\n",
              "        text-align: right;\n",
              "    }\n",
              "</style>\n",
              "<table border=\"1\" class=\"dataframe\">\n",
              "  <thead>\n",
              "    <tr style=\"text-align: right;\">\n",
              "      <th></th>\n",
              "      <th>Deputados federais eleitos</th>\n",
              "      <th>Naturalidade</th>\n",
              "      <th>Mandatos</th>\n",
              "      <th>Ano da eleição</th>\n",
              "      <th>Notas</th>\n",
              "    </tr>\n",
              "  </thead>\n",
              "  <tbody>\n",
              "    <tr>\n",
              "      <th>0</th>\n",
              "      <td>Inocêncio Oliveira</td>\n",
              "      <td>Serra Talhada, PE</td>\n",
              "      <td>10</td>\n",
              "      <td>1974, 1978, 1982, 1986, 1990, 1994, 1998, 2002...</td>\n",
              "      <td>NaN</td>\n",
              "    </tr>\n",
              "    <tr>\n",
              "      <th>1</th>\n",
              "      <td>Osvaldo Coelho</td>\n",
              "      <td>Juazeiro, BA</td>\n",
              "      <td>08</td>\n",
              "      <td>1966, 1978, 1982, 1986, 1990, 1994, 1998, 2002</td>\n",
              "      <td>NaN</td>\n",
              "    </tr>\n",
              "    <tr>\n",
              "      <th>2</th>\n",
              "      <td>Ricardo Fiuza</td>\n",
              "      <td>Fortaleza, CE</td>\n",
              "      <td>08</td>\n",
              "      <td>1970, 1974, 1978, 1982, 1986, 1990, 1998, 2002</td>\n",
              "      <td>[nota 11]</td>\n",
              "    </tr>\n",
              "    <tr>\n",
              "      <th>3</th>\n",
              "      <td>Gonzaga Patriota</td>\n",
              "      <td>Sertânia, PE</td>\n",
              "      <td>08</td>\n",
              "      <td>1986, 1994, 1998, 2002, 2006, 2010, 2014, 2018</td>\n",
              "      <td>NaN</td>\n",
              "    </tr>\n",
              "    <tr>\n",
              "      <th>4</th>\n",
              "      <td>José Mendonça Bezerra</td>\n",
              "      <td>Belo Jardim, PE</td>\n",
              "      <td>07</td>\n",
              "      <td>1982, 1986, 1990, 1994, 1998, 2002, 2006</td>\n",
              "      <td>NaN</td>\n",
              "    </tr>\n",
              "  </tbody>\n",
              "</table>\n",
              "</div>\n",
              "      <button class=\"colab-df-convert\" onclick=\"convertToInteractive('df-7939dffb-2f0d-4cd2-a3f2-bf1587fce2d2')\"\n",
              "              title=\"Convert this dataframe to an interactive table.\"\n",
              "              style=\"display:none;\">\n",
              "        \n",
              "  <svg xmlns=\"http://www.w3.org/2000/svg\" height=\"24px\"viewBox=\"0 0 24 24\"\n",
              "       width=\"24px\">\n",
              "    <path d=\"M0 0h24v24H0V0z\" fill=\"none\"/>\n",
              "    <path d=\"M18.56 5.44l.94 2.06.94-2.06 2.06-.94-2.06-.94-.94-2.06-.94 2.06-2.06.94zm-11 1L8.5 8.5l.94-2.06 2.06-.94-2.06-.94L8.5 2.5l-.94 2.06-2.06.94zm10 10l.94 2.06.94-2.06 2.06-.94-2.06-.94-.94-2.06-.94 2.06-2.06.94z\"/><path d=\"M17.41 7.96l-1.37-1.37c-.4-.4-.92-.59-1.43-.59-.52 0-1.04.2-1.43.59L10.3 9.45l-7.72 7.72c-.78.78-.78 2.05 0 2.83L4 21.41c.39.39.9.59 1.41.59.51 0 1.02-.2 1.41-.59l7.78-7.78 2.81-2.81c.8-.78.8-2.07 0-2.86zM5.41 20L4 18.59l7.72-7.72 1.47 1.35L5.41 20z\"/>\n",
              "  </svg>\n",
              "      </button>\n",
              "      \n",
              "  <style>\n",
              "    .colab-df-container {\n",
              "      display:flex;\n",
              "      flex-wrap:wrap;\n",
              "      gap: 12px;\n",
              "    }\n",
              "\n",
              "    .colab-df-convert {\n",
              "      background-color: #E8F0FE;\n",
              "      border: none;\n",
              "      border-radius: 50%;\n",
              "      cursor: pointer;\n",
              "      display: none;\n",
              "      fill: #1967D2;\n",
              "      height: 32px;\n",
              "      padding: 0 0 0 0;\n",
              "      width: 32px;\n",
              "    }\n",
              "\n",
              "    .colab-df-convert:hover {\n",
              "      background-color: #E2EBFA;\n",
              "      box-shadow: 0px 1px 2px rgba(60, 64, 67, 0.3), 0px 1px 3px 1px rgba(60, 64, 67, 0.15);\n",
              "      fill: #174EA6;\n",
              "    }\n",
              "\n",
              "    [theme=dark] .colab-df-convert {\n",
              "      background-color: #3B4455;\n",
              "      fill: #D2E3FC;\n",
              "    }\n",
              "\n",
              "    [theme=dark] .colab-df-convert:hover {\n",
              "      background-color: #434B5C;\n",
              "      box-shadow: 0px 1px 3px 1px rgba(0, 0, 0, 0.15);\n",
              "      filter: drop-shadow(0px 1px 2px rgba(0, 0, 0, 0.3));\n",
              "      fill: #FFFFFF;\n",
              "    }\n",
              "  </style>\n",
              "\n",
              "      <script>\n",
              "        const buttonEl =\n",
              "          document.querySelector('#df-7939dffb-2f0d-4cd2-a3f2-bf1587fce2d2 button.colab-df-convert');\n",
              "        buttonEl.style.display =\n",
              "          google.colab.kernel.accessAllowed ? 'block' : 'none';\n",
              "\n",
              "        async function convertToInteractive(key) {\n",
              "          const element = document.querySelector('#df-7939dffb-2f0d-4cd2-a3f2-bf1587fce2d2');\n",
              "          const dataTable =\n",
              "            await google.colab.kernel.invokeFunction('convertToInteractive',\n",
              "                                                     [key], {});\n",
              "          if (!dataTable) return;\n",
              "\n",
              "          const docLinkHtml = 'Like what you see? Visit the ' +\n",
              "            '<a target=\"_blank\" href=https://colab.research.google.com/notebooks/data_table.ipynb>data table notebook</a>'\n",
              "            + ' to learn more about interactive tables.';\n",
              "          element.innerHTML = '';\n",
              "          dataTable['output_type'] = 'display_data';\n",
              "          await google.colab.output.renderOutput(dataTable, element);\n",
              "          const docLink = document.createElement('div');\n",
              "          docLink.innerHTML = docLinkHtml;\n",
              "          element.appendChild(docLink);\n",
              "        }\n",
              "      </script>\n",
              "    </div>\n",
              "  </div>\n",
              "  "
            ]
          },
          "metadata": {},
          "execution_count": 10
        }
      ]
    },
    {
      "cell_type": "code",
      "source": [
        "deputados_pe.groupby('Naturalidade')['Ano da eleição'].count().sort_values(ascending=False)"
      ],
      "metadata": {
        "colab": {
          "base_uri": "https://localhost:8080/"
        },
        "id": "UZcvu3hVyRGW",
        "outputId": "b7aa3ab7-1f45-4fcd-8fc1-f573c2ab1ec2"
      },
      "execution_count": 11,
      "outputs": [
        {
          "output_type": "execute_result",
          "data": {
            "text/plain": [
              "Naturalidade\n",
              "Recife, PE                    80\n",
              "Caruaru, PE                    6\n",
              "Nazaré da Mata, PE             5\n",
              "Limoeiro, PE                   4\n",
              "Vitória de Santo Antão, PE     4\n",
              "                              ..\n",
              "Murici, AL                     1\n",
              "Cabaceiras, PB                 1\n",
              "Brejo da Madre de Deus, PE     1\n",
              "Orobó, PE                      1\n",
              "Afogados da Ingazeira, PE      1\n",
              "Name: Ano da eleição, Length: 67, dtype: int64"
            ]
          },
          "metadata": {},
          "execution_count": 11
        }
      ]
    },
    {
      "cell_type": "code",
      "source": [],
      "metadata": {
        "id": "WgRKqlRjyRI3"
      },
      "execution_count": null,
      "outputs": []
    },
    {
      "cell_type": "code",
      "source": [],
      "metadata": {
        "id": "GQtLJ3EByRLu"
      },
      "execution_count": null,
      "outputs": []
    },
    {
      "cell_type": "code",
      "source": [],
      "metadata": {
        "id": "Us0UFD4-yROs"
      },
      "execution_count": null,
      "outputs": []
    },
    {
      "cell_type": "code",
      "source": [],
      "metadata": {
        "id": "-lDF0U76yRRJ"
      },
      "execution_count": null,
      "outputs": []
    },
    {
      "cell_type": "code",
      "source": [],
      "metadata": {
        "id": "SntNcR4LyRUC"
      },
      "execution_count": null,
      "outputs": []
    },
    {
      "cell_type": "code",
      "source": [],
      "metadata": {
        "id": "ElVlwHWGyRWp"
      },
      "execution_count": null,
      "outputs": []
    },
    {
      "cell_type": "code",
      "source": [],
      "metadata": {
        "id": "KZiJsvRmyRZf"
      },
      "execution_count": null,
      "outputs": []
    },
    {
      "cell_type": "code",
      "source": [],
      "metadata": {
        "id": "T99biMCMyRb7"
      },
      "execution_count": null,
      "outputs": []
    },
    {
      "cell_type": "code",
      "source": [],
      "metadata": {
        "id": "zCDrcS6wyRet"
      },
      "execution_count": null,
      "outputs": []
    },
    {
      "cell_type": "code",
      "source": [],
      "metadata": {
        "id": "Cl-HWv1UyRhi"
      },
      "execution_count": null,
      "outputs": []
    },
    {
      "cell_type": "code",
      "source": [],
      "metadata": {
        "id": "tnC_hHKxyRkI"
      },
      "execution_count": null,
      "outputs": []
    },
    {
      "cell_type": "code",
      "source": [],
      "metadata": {
        "id": "LnTknA4TyRm8"
      },
      "execution_count": null,
      "outputs": []
    },
    {
      "cell_type": "code",
      "source": [],
      "metadata": {
        "id": "_V6MuU_syRpc"
      },
      "execution_count": null,
      "outputs": []
    },
    {
      "cell_type": "code",
      "source": [],
      "metadata": {
        "id": "GYFML2UoyRsC"
      },
      "execution_count": null,
      "outputs": []
    },
    {
      "cell_type": "code",
      "source": [],
      "metadata": {
        "id": "fT2CgAZjyRup"
      },
      "execution_count": null,
      "outputs": []
    }
  ]
}