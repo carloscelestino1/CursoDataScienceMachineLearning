{
  "nbformat": 4,
  "nbformat_minor": 0,
  "metadata": {
    "colab": {
      "provenance": [],
      "authorship_tag": "ABX9TyOVGJVF88/3sziQo5u7v704",
      "include_colab_link": true
    },
    "kernelspec": {
      "name": "python3",
      "display_name": "Python 3"
    },
    "language_info": {
      "name": "python"
    }
  },
  "cells": [
    {
      "cell_type": "markdown",
      "metadata": {
        "id": "view-in-github",
        "colab_type": "text"
      },
      "source": [
        "<a href=\"https://colab.research.google.com/github/carloscelestino1/DataScience-and-ML/blob/main/aula6_1.ipynb\" target=\"_parent\"><img src=\"https://colab.research.google.com/assets/colab-badge.svg\" alt=\"Open In Colab\"/></a>"
      ]
    },
    {
      "cell_type": "markdown",
      "source": [
        "# Obtendo dados em formato jason de API"
      ],
      "metadata": {
        "id": "bXMf47azm6dd"
      }
    },
    {
      "cell_type": "code",
      "execution_count": 17,
      "metadata": {
        "id": "8-AHVif6ZGDp"
      },
      "outputs": [],
      "source": [
        "import requests\n",
        "import pandas as pd"
      ]
    },
    {
      "cell_type": "code",
      "source": [
        "url_api = \"http://splegisws.camara.sp.gov.br/ws/ws2.asmx/VereadoresCMSPJSON\""
      ],
      "metadata": {
        "id": "c5v10hSbZMp8"
      },
      "execution_count": 2,
      "outputs": []
    },
    {
      "cell_type": "code",
      "source": [
        "resultados = requests.get(url_api)\n",
        "resultados.status_code"
      ],
      "metadata": {
        "colab": {
          "base_uri": "https://localhost:8080/"
        },
        "id": "1Os_a2ShZMs5",
        "outputId": "275f568c-da8e-4492-c08d-ec9b1892da5e"
      },
      "execution_count": 3,
      "outputs": [
        {
          "output_type": "execute_result",
          "data": {
            "text/plain": [
              "200"
            ]
          },
          "metadata": {},
          "execution_count": 3
        }
      ]
    },
    {
      "cell_type": "code",
      "source": [
        "resultados.content"
      ],
      "metadata": {
        "id": "8LpGhA4mZMvu"
      },
      "execution_count": null,
      "outputs": []
    },
    {
      "cell_type": "code",
      "source": [
        "type(resultados.content)"
      ],
      "metadata": {
        "colab": {
          "base_uri": "https://localhost:8080/"
        },
        "id": "zkwws_uJZMyV",
        "outputId": "a9329225-491b-4b60-e979-59e6785127d6"
      },
      "execution_count": 5,
      "outputs": [
        {
          "output_type": "execute_result",
          "data": {
            "text/plain": [
              "bytes"
            ]
          },
          "metadata": {},
          "execution_count": 5
        }
      ]
    },
    {
      "cell_type": "code",
      "source": [
        "resultados_json = resultados.json()\n",
        "resultados_json"
      ],
      "metadata": {
        "id": "pNMeftjToEJH"
      },
      "execution_count": null,
      "outputs": []
    },
    {
      "cell_type": "code",
      "source": [
        "type(resultados_json)"
      ],
      "metadata": {
        "colab": {
          "base_uri": "https://localhost:8080/"
        },
        "id": "rC_B-eIooELg",
        "outputId": "52fc6e41-e30d-49d5-94c8-bc763acc3e0c"
      },
      "execution_count": 7,
      "outputs": [
        {
          "output_type": "execute_result",
          "data": {
            "text/plain": [
              "list"
            ]
          },
          "metadata": {},
          "execution_count": 7
        }
      ]
    },
    {
      "cell_type": "code",
      "source": [
        "len(resultados_json)"
      ],
      "metadata": {
        "colab": {
          "base_uri": "https://localhost:8080/"
        },
        "id": "RNkc6mjboEOO",
        "outputId": "3018158d-cd1a-4c7f-a10a-cb5fea37ee6a"
      },
      "execution_count": 8,
      "outputs": [
        {
          "output_type": "execute_result",
          "data": {
            "text/plain": [
              "335"
            ]
          },
          "metadata": {},
          "execution_count": 8
        }
      ]
    },
    {
      "cell_type": "code",
      "source": [
        "resultados_json[0]"
      ],
      "metadata": {
        "colab": {
          "base_uri": "https://localhost:8080/"
        },
        "id": "JCStLDSVoEQr",
        "outputId": "7403f781-e31d-410e-8867-d7bdd3c62ff7"
      },
      "execution_count": 9,
      "outputs": [
        {
          "output_type": "execute_result",
          "data": {
            "text/plain": [
              "{'chave': 83,\n",
              " 'nome': 'ALBERTINO NOBRE',\n",
              " 'cargos': [{'chave': 'V',\n",
              "   'nome': 'Vice-presidente',\n",
              "   'inicio': '/Date(705283200000)/',\n",
              "   'fim': '/Date(725760000000)/',\n",
              "   'ente': {'chave': 59, 'nome': 'Comissão - ADMINISTRAÇÃO PÚBLICA'}},\n",
              "  {'chave': 'V',\n",
              "   'nome': 'Vice-presidente',\n",
              "   'inicio': '/Date(697939200000)/',\n",
              "   'fim': '/Date(702518400000)/',\n",
              "   'ente': {'chave': 59, 'nome': 'Comissão - ADMINISTRAÇÃO PÚBLICA'}},\n",
              "  {'chave': 'V',\n",
              "   'nome': 'Vice-presidente',\n",
              "   'inicio': '/Date(681004800000)/',\n",
              "   'fim': '/Date(697852800000)/',\n",
              "   'ente': {'chave': 61, 'nome': 'Comissão - EDUCAÇÃO, CULTURA E ESPORTES'}},\n",
              "  {'chave': '5',\n",
              "   'nome': '2º Secretário',\n",
              "   'inicio': '/Date(694224000000)/',\n",
              "   'fim': '/Date(725760000000)/',\n",
              "   'ente': {'chave': 5,\n",
              "    'nome': 'MESA DA CAMARA MUNICIPAL DE SAO PAULO - 01/01/1992 a 31/12/1992'}}],\n",
              " 'mandatos': [{'inicio': '/Date(599616000000)/',\n",
              "   'fim': '/Date(725760000000)/',\n",
              "   'partido': {'chave': 54,\n",
              "    'nome': 'PARTIDO TRABALHISTA BRASILEIRO',\n",
              "    'sigla': 'PTB'}},\n",
              "  {'inicio': '/Date(412905600000)/',\n",
              "   'fim': '/Date(599529600000)/',\n",
              "   'partido': {'chave': 54,\n",
              "    'nome': 'PARTIDO TRABALHISTA BRASILEIRO',\n",
              "    'sigla': 'PTB'}}],\n",
              " 'filiacoes': [{'inicio': '/Date(410227200000)/',\n",
              "   'partido': {'chave': 54,\n",
              "    'nome': 'PARTIDO TRABALHISTA BRASILEIRO',\n",
              "    'sigla': 'PTB'}}]}"
            ]
          },
          "metadata": {},
          "execution_count": 9
        }
      ]
    },
    {
      "cell_type": "code",
      "source": [
        "type(resultados_json[0])"
      ],
      "metadata": {
        "colab": {
          "base_uri": "https://localhost:8080/"
        },
        "id": "wNaSo7W_oES2",
        "outputId": "48bae8b9-2abf-4da8-e81f-c0b44dad33a0"
      },
      "execution_count": 10,
      "outputs": [
        {
          "output_type": "execute_result",
          "data": {
            "text/plain": [
              "dict"
            ]
          },
          "metadata": {},
          "execution_count": 10
        }
      ]
    },
    {
      "cell_type": "code",
      "source": [
        "lista_novos_dados = []"
      ],
      "metadata": {
        "id": "j8h-_aUFZM1O"
      },
      "execution_count": 11,
      "outputs": []
    },
    {
      "cell_type": "code",
      "source": [
        "for item in resultados_json:\n",
        "  novos_dados = {\n",
        "      'nome':item.get('nome'),\n",
        "      'qtd_mandatos': len(item.get('mandatos')),\n",
        "      'qtd_cargos': len(item.get('cargos'))\n",
        "  }\n",
        "  lista_novos_dados.append(novos_dados)"
      ],
      "metadata": {
        "id": "4XX0Ev89pYwA"
      },
      "execution_count": 13,
      "outputs": []
    },
    {
      "cell_type": "code",
      "source": [
        "lista_novos_dados"
      ],
      "metadata": {
        "colab": {
          "base_uri": "https://localhost:8080/"
        },
        "id": "GsOwiB37pYyb",
        "outputId": "17bcad22-d5b2-4b03-985a-058e8db8cd52"
      },
      "execution_count": 14,
      "outputs": [
        {
          "output_type": "execute_result",
          "data": {
            "text/plain": [
              "[{'nome': 'ALBERTINO NOBRE', 'qtd_mandatos': 2, 'qtd_cargos': 4},\n",
              " {'nome': 'ALFREDO MARTINS', 'qtd_mandatos': 2, 'qtd_cargos': 4},\n",
              " {'nome': 'ALMIR GUIMARAES', 'qtd_mandatos': 3, 'qtd_cargos': 6},\n",
              " {'nome': 'ANTONIO CARLOS FERNANDES', 'qtd_mandatos': 1, 'qtd_cargos': 0},\n",
              " {'nome': 'ANDRADE FIGUEIRA', 'qtd_mandatos': 2, 'qtd_cargos': 1},\n",
              " {'nome': 'ANTONIO SAMPAIO', 'qtd_mandatos': 3, 'qtd_cargos': 8},\n",
              " {'nome': 'ARNALDO MADEIRA', 'qtd_mandatos': 3, 'qtd_cargos': 4},\n",
              " {'nome': 'AURELINO DE ANDRADE', 'qtd_mandatos': 3, 'qtd_cargos': 8},\n",
              " {'nome': 'AVANIR DURAN GALHARDO', 'qtd_mandatos': 3, 'qtd_cargos': 6},\n",
              " {'nome': 'BRASIL VITA', 'qtd_mandatos': 5, 'qtd_cargos': 16},\n",
              " {'nome': 'CELSO MATSUDA', 'qtd_mandatos': 1, 'qtd_cargos': 2},\n",
              " {'nome': 'CLAUDIO BARROSO GOMES', 'qtd_mandatos': 1, 'qtd_cargos': 2},\n",
              " {'nome': 'EURIPEDES SALES', 'qtd_mandatos': 1, 'qtd_cargos': 0},\n",
              " {'nome': 'FRANCISCO BATISTA', 'qtd_mandatos': 2, 'qtd_cargos': 6},\n",
              " {'nome': 'GABRIEL ORTEGA', 'qtd_mandatos': 3, 'qtd_cargos': 9},\n",
              " {'nome': 'GETULIO HANASHIRO', 'qtd_mandatos': 1, 'qtd_cargos': 0},\n",
              " {'nome': 'GILBERTO NASCIMENTO', 'qtd_mandatos': 3, 'qtd_cargos': 7},\n",
              " {'nome': 'IREDE CARDOSO', 'qtd_mandatos': 2, 'qtd_cargos': 4},\n",
              " {'nome': 'JAMIL ACHOA', 'qtd_mandatos': 2, 'qtd_cargos': 3},\n",
              " {'nome': 'JOAO APARECIDO DE PAULA', 'qtd_mandatos': 2, 'qtd_cargos': 2},\n",
              " {'nome': 'JOAO CARLOS ALVES', 'qtd_mandatos': 2, 'qtd_cargos': 4},\n",
              " {'nome': 'JOOJI HATO', 'qtd_mandatos': 7, 'qtd_cargos': 27},\n",
              " {'nome': 'JOSE MARIA RODRIGUES ALVES', 'qtd_mandatos': 1, 'qtd_cargos': 0},\n",
              " {'nome': 'LUIZ TENORIO DE LIMA', 'qtd_mandatos': 1, 'qtd_cargos': 2},\n",
              " {'nome': 'LUIZA ERUNDINA', 'qtd_mandatos': 1, 'qtd_cargos': 0},\n",
              " {'nome': 'MARCOS MENDONCA', 'qtd_mandatos': 3, 'qtd_cargos': 7},\n",
              " {'nome': 'MARIO NODA', 'qtd_mandatos': 3, 'qtd_cargos': 12},\n",
              " {'nome': 'NELSON GUERRA', 'qtd_mandatos': 3, 'qtd_cargos': 7},\n",
              " {'nome': 'RICARDO TRIPOLI', 'qtd_mandatos': 1, 'qtd_cargos': 0},\n",
              " {'nome': 'TERCIO CHAGAS TOSTA', 'qtd_mandatos': 1, 'qtd_cargos': 0},\n",
              " {'nome': 'TEREZA CRISTINA DE SOUZA LAJOLO',\n",
              "  'qtd_mandatos': 4,\n",
              "  'qtd_cargos': 7},\n",
              " {'nome': 'WALTER FELDMAN', 'qtd_mandatos': 2, 'qtd_cargos': 3},\n",
              " {'nome': 'ALTINO LIMA', 'qtd_mandatos': 2, 'qtd_cargos': 2},\n",
              " {'nome': 'DALMO PESSOA', 'qtd_mandatos': 2, 'qtd_cargos': 4},\n",
              " {'nome': 'EDSON SIMOES', 'qtd_mandatos': 3, 'qtd_cargos': 11},\n",
              " {'nome': 'FRANCISCO GIMENEZ', 'qtd_mandatos': 1, 'qtd_cargos': 0},\n",
              " {'nome': 'IDA MARIA', 'qtd_mandatos': 2, 'qtd_cargos': 0},\n",
              " {'nome': 'LAURO FERRAZ', 'qtd_mandatos': 1, 'qtd_cargos': 0},\n",
              " {'nome': 'WADIH MUTRAN', 'qtd_mandatos': 8, 'qtd_cargos': 28},\n",
              " {'nome': 'ARNALDO ALVES', 'qtd_mandatos': 1, 'qtd_cargos': 0},\n",
              " {'nome': 'JOSE CACCIA', 'qtd_mandatos': 1, 'qtd_cargos': 0},\n",
              " {'nome': 'ANERCIDES VALENTE', 'qtd_mandatos': 1, 'qtd_cargos': 0},\n",
              " {'nome': 'ROBERTO TURQUETTI', 'qtd_mandatos': 1, 'qtd_cargos': 0},\n",
              " {'nome': 'JOSE ROBERTO MONACO', 'qtd_mandatos': 1, 'qtd_cargos': 0},\n",
              " {'nome': 'EDER JOFRE', 'qtd_mandatos': 4, 'qtd_cargos': 9},\n",
              " {'nome': 'OSVALDO GIANNOTTI', 'qtd_mandatos': 3, 'qtd_cargos': 8},\n",
              " {'nome': 'JUCELINO SILVA NETO', 'qtd_mandatos': 2, 'qtd_cargos': 3},\n",
              " {'nome': 'TERESINHA MARTINS', 'qtd_mandatos': 2, 'qtd_cargos': 2},\n",
              " {'nome': 'FRANCISCO BENEDITO FAZAN', 'qtd_mandatos': 1, 'qtd_cargos': 0},\n",
              " {'nome': 'OSVALDO FRISSELLI JUNIOR', 'qtd_mandatos': 1, 'qtd_cargos': 0},\n",
              " {'nome': 'JOSE VIVIANI FERRAZ', 'qtd_mandatos': 5, 'qtd_cargos': 19},\n",
              " {'nome': 'NAYLOR DE OLIVEIRA', 'qtd_mandatos': 2, 'qtd_cargos': 0},\n",
              " {'nome': 'GERALDO BLOTA', 'qtd_mandatos': 2, 'qtd_cargos': 2},\n",
              " {'nome': 'SERGIO TUFIK', 'qtd_mandatos': 1, 'qtd_cargos': 0},\n",
              " {'nome': 'EDGAR MARTINS', 'qtd_mandatos': 1, 'qtd_cargos': 0},\n",
              " {'nome': 'WLADEMIR MARCELLOS', 'qtd_mandatos': 1, 'qtd_cargos': 0},\n",
              " {'nome': 'PEDRO FERNANDES', 'qtd_mandatos': 1, 'qtd_cargos': 0},\n",
              " {'nome': 'ADRIANO DIOGO', 'qtd_mandatos': 4, 'qtd_cargos': 12},\n",
              " {'nome': 'ALDO REBELO', 'qtd_mandatos': 1, 'qtd_cargos': 0},\n",
              " {'nome': 'ANTONIO CARLOS CARUSO', 'qtd_mandatos': 2, 'qtd_cargos': 4},\n",
              " {'nome': 'ARSELINO TATTO', 'qtd_mandatos': 9, 'qtd_cargos': 30},\n",
              " {'nome': 'ANTONIO JOSE DA SILVA FILHO (BIRO-BIRO)',\n",
              "  'qtd_mandatos': 1,\n",
              "  'qtd_cargos': 2},\n",
              " {'nome': 'BRUNO FEDER', 'qtd_mandatos': 3, 'qtd_cargos': 7},\n",
              " {'nome': 'CHICO WHITAKER', 'qtd_mandatos': 2, 'qtd_cargos': 5},\n",
              " {'nome': 'DEVANIR RIBEIRO', 'qtd_mandatos': 4, 'qtd_cargos': 9},\n",
              " {'nome': 'EDUARDO MATARAZZO SUPLICY', 'qtd_mandatos': 3, 'qtd_cargos': 10},\n",
              " {'nome': 'FAUSTO TOMAZ DE LIMA', 'qtd_mandatos': 2, 'qtd_cargos': 3},\n",
              " {'nome': 'GUILHERME GIANETTI', 'qtd_mandatos': 2, 'qtd_cargos': 4},\n",
              " {'nome': 'HENRIQUE PACHECO', 'qtd_mandatos': 3, 'qtd_cargos': 10},\n",
              " {'nome': 'ITALO CARDOSO', 'qtd_mandatos': 5, 'qtd_cargos': 24},\n",
              " {'nome': 'JOSE INDIO FERREIRA DO NASCIMENTO',\n",
              "  'qtd_mandatos': 3,\n",
              "  'qtd_cargos': 7},\n",
              " {'nome': 'JUAREZ SOARES', 'qtd_mandatos': 1, 'qtd_cargos': 2},\n",
              " {'nome': 'JULIO CESAR CALIGIURI', 'qtd_mandatos': 1, 'qtd_cargos': 4},\n",
              " {'nome': 'LIDIA CORREA', 'qtd_mandatos': 4, 'qtd_cargos': 7},\n",
              " {'nome': 'LUIZ CARLOS MOURA', 'qtd_mandatos': 1, 'qtd_cargos': 1},\n",
              " {'nome': 'MAURICIO FARIA', 'qtd_mandatos': 3, 'qtd_cargos': 3},\n",
              " {'nome': 'OSVALDO SANCHES', 'qtd_mandatos': 3, 'qtd_cargos': 6},\n",
              " {'nome': 'PAULO KOBAYASHI', 'qtd_mandatos': 2, 'qtd_cargos': 6},\n",
              " {'nome': 'PEDRO DALLARI', 'qtd_mandatos': 1, 'qtd_cargos': 0},\n",
              " {'nome': 'ROBERTO TRÍPOLI', 'qtd_mandatos': 8, 'qtd_cargos': 38},\n",
              " {'nome': 'ROBSON TUMA', 'qtd_mandatos': 1, 'qtd_cargos': 0},\n",
              " {'nome': 'TITA DIAS', 'qtd_mandatos': 2, 'qtd_cargos': 5},\n",
              " {'nome': 'USHITARO KAMIA', 'qtd_mandatos': 6, 'qtd_cargos': 20},\n",
              " {'nome': 'VALFREDO FERREIRA SILVA', 'qtd_mandatos': 2, 'qtd_cargos': 2},\n",
              " {'nome': 'WALTER ABRAHAO', 'qtd_mandatos': 2, 'qtd_cargos': 4},\n",
              " {'nome': 'VITAL NOLASCO', 'qtd_mandatos': 3, 'qtd_cargos': 8},\n",
              " {'nome': 'ABEL FERREIRA CASTILHO', 'qtd_mandatos': 1, 'qtd_cargos': 1},\n",
              " {'nome': 'ALEX FREUA NETO', 'qtd_mandatos': 2, 'qtd_cargos': 9},\n",
              " {'nome': 'EDSON FALANGA', 'qtd_mandatos': 1, 'qtd_cargos': 2},\n",
              " {'nome': 'PAULO ROBERTO FARIA LIMA', 'qtd_mandatos': 4, 'qtd_cargos': 9},\n",
              " {'nome': 'GILSON BARRETO', 'qtd_mandatos': 9, 'qtd_cargos': 48},\n",
              " {'nome': 'MARCOS KERTZMANN', 'qtd_mandatos': 1, 'qtd_cargos': 0},\n",
              " {'nome': 'FERMINO FECHIO FILHO', 'qtd_mandatos': 1, 'qtd_cargos': 3},\n",
              " {'nome': 'ARMELINDO PASSONI', 'qtd_mandatos': 1, 'qtd_cargos': 5},\n",
              " {'nome': 'MAURO AILTON PUERRO', 'qtd_mandatos': 1, 'qtd_cargos': 2},\n",
              " {'nome': 'ALBERTO CALVO', 'qtd_mandatos': 2, 'qtd_cargos': 3},\n",
              " {'nome': 'JOSE DENYCIO PONTES AGOSTINHO', 'qtd_mandatos': 1, 'qtd_cargos': 0},\n",
              " {'nome': 'LUIZ PAULO GNECCO', 'qtd_mandatos': 1, 'qtd_cargos': 5},\n",
              " {'nome': 'PAULO FRATESCHI', 'qtd_mandatos': 1, 'qtd_cargos': 2},\n",
              " {'nome': 'ODILON GUEDES', 'qtd_mandatos': 4, 'qtd_cargos': 5},\n",
              " {'nome': 'ZULAIE COBRA RIBEIRO', 'qtd_mandatos': 1, 'qtd_cargos': 1},\n",
              " {'nome': 'NELSON GUIMARAES PROENCA', 'qtd_mandatos': 2, 'qtd_cargos': 13},\n",
              " {'nome': 'ANA MARTINS', 'qtd_mandatos': 3, 'qtd_cargos': 16},\n",
              " {'nome': 'JOSE MENTOR', 'qtd_mandatos': 3, 'qtd_cargos': 7},\n",
              " {'nome': 'ALDAIZA SPOSATI', 'qtd_mandatos': 3, 'qtd_cargos': 15},\n",
              " {'nome': 'SERGIO RICARDO SILVA ROSA', 'qtd_mandatos': 1, 'qtd_cargos': 11},\n",
              " {'nome': 'JOSE EDUARDO CARDOZO', 'qtd_mandatos': 3, 'qtd_cargos': 9},\n",
              " {'nome': 'NELO RODOLFO', 'qtd_mandatos': 3, 'qtd_cargos': 13},\n",
              " {'nome': 'MURILLO ANTUNES ALVES', 'qtd_mandatos': 1, 'qtd_cargos': 2},\n",
              " {'nome': 'DARCIO ARRUDA', 'qtd_mandatos': 1, 'qtd_cargos': 2},\n",
              " {'nome': 'ZENAS PIRES', 'qtd_mandatos': 1, 'qtd_cargos': 6},\n",
              " {'nome': 'ALBERTO HIAR', 'qtd_mandatos': 2, 'qtd_cargos': 9},\n",
              " {'nome': 'MARCOS CINTRA', 'qtd_mandatos': 2, 'qtd_cargos': 6},\n",
              " {'nome': 'EMILIO MENEGHINI', 'qtd_mandatos': 2, 'qtd_cargos': 5},\n",
              " {'nome': 'MARIO DIAS', 'qtd_mandatos': 4, 'qtd_cargos': 11},\n",
              " {'nome': 'EDIVALDO ESTIMA', 'qtd_mandatos': 4, 'qtd_cargos': 21},\n",
              " {'nome': 'MANOEL SALA', 'qtd_mandatos': 1, 'qtd_cargos': 3},\n",
              " {'nome': 'TONINHO PAIVA', 'qtd_mandatos': 7, 'qtd_cargos': 38},\n",
              " {'nome': 'GILBERTO KASSAB', 'qtd_mandatos': 1, 'qtd_cargos': 1},\n",
              " {'nome': 'HANNA GHARIB', 'qtd_mandatos': 2, 'qtd_cargos': 3},\n",
              " {'nome': 'COSME LOPES', 'qtd_mandatos': 3, 'qtd_cargos': 7},\n",
              " {'nome': 'AURÉLIO NOMURA', 'qtd_mandatos': 8, 'qtd_cargos': 41},\n",
              " {'nome': 'ARCHIBALDO ZANCRA', 'qtd_mandatos': 2, 'qtd_cargos': 12},\n",
              " {'nome': 'VICENTE VISCOME', 'qtd_mandatos': 2, 'qtd_cargos': 10},\n",
              " {'nome': 'MOHAMAD SAID MOURAD', 'qtd_mandatos': 2, 'qtd_cargos': 15},\n",
              " {'nome': 'DITO SALIM', 'qtd_mandatos': 2, 'qtd_cargos': 8},\n",
              " {'nome': 'MIGUEL COLASUONNO', 'qtd_mandatos': 2, 'qtd_cargos': 10},\n",
              " {'nome': 'ANA MARIA QUADROS', 'qtd_mandatos': 2, 'qtd_cargos': 7},\n",
              " {'nome': 'CARLOS ZARATTINI', 'qtd_mandatos': 2, 'qtd_cargos': 11},\n",
              " {'nome': 'ADAIR PAGAMISSE', 'qtd_mandatos': 1, 'qtd_cargos': 0},\n",
              " {'nome': 'ERCI AYALA', 'qtd_mandatos': 1, 'qtd_cargos': 1},\n",
              " {'nome': 'LEVY RUFINO DA SILVA', 'qtd_mandatos': 1, 'qtd_cargos': 1},\n",
              " {'nome': 'RUBENS ROMANO', 'qtd_mandatos': 1, 'qtd_cargos': 3},\n",
              " {'nome': 'EVALDO SILVA', 'qtd_mandatos': 1, 'qtd_cargos': 2},\n",
              " {'nome': 'JOSE AMERICO', 'qtd_mandatos': 5, 'qtd_cargos': 29},\n",
              " {'nome': 'IVO MORGANTI', 'qtd_mandatos': 1, 'qtd_cargos': 5},\n",
              " {'nome': 'OSVALDO ENEAS', 'qtd_mandatos': 1, 'qtd_cargos': 5},\n",
              " {'nome': 'PAULO FRANGE', 'qtd_mandatos': 7, 'qtd_cargos': 38},\n",
              " {'nome': 'DALTON SILVANO', 'qtd_mandatos': 6, 'qtd_cargos': 64},\n",
              " {'nome': 'JOSE IZAR', 'qtd_mandatos': 1, 'qtd_cargos': 4},\n",
              " {'nome': 'JOSE SILVA AMORIM', 'qtd_mandatos': 1, 'qtd_cargos': 2},\n",
              " {'nome': 'GOULART', 'qtd_mandatos': 5, 'qtd_cargos': 28},\n",
              " {'nome': 'DOMINGOS DISSEI', 'qtd_mandatos': 4, 'qtd_cargos': 22},\n",
              " {'nome': 'MILTON LEITE', 'qtd_mandatos': 7, 'qtd_cargos': 39},\n",
              " {'nome': 'CELSO CARDOSO', 'qtd_mandatos': 2, 'qtd_cargos': 12},\n",
              " {'nome': 'PIERRE ALEXANDRE DE FREITAS', 'qtd_mandatos': 1, 'qtd_cargos': 5},\n",
              " {'nome': 'MARIA HELENA PEREIRA FONTES', 'qtd_mandatos': 1, 'qtd_cargos': 4},\n",
              " {'nome': 'LUIZ PASCHOAL', 'qtd_mandatos': 3, 'qtd_cargos': 4},\n",
              " {'nome': 'ARMANDO MELLAO NETO', 'qtd_mandatos': 1, 'qtd_cargos': 4},\n",
              " {'nome': 'SALIM CURIATI', 'qtd_mandatos': 2, 'qtd_cargos': 14},\n",
              " {'nome': 'CARLOS NEDER', 'qtd_mandatos': 4, 'qtd_cargos': 15},\n",
              " {'nome': 'NATALICIO BEZERRA SILVA', 'qtd_mandatos': 1, 'qtd_cargos': 3},\n",
              " {'nome': 'JORGE TABA', 'qtd_mandatos': 2, 'qtd_cargos': 13},\n",
              " {'nome': 'VICENTE CANDIDO DA SILVA', 'qtd_mandatos': 2, 'qtd_cargos': 10},\n",
              " {'nome': 'MAELI VERGNIANO', 'qtd_mandatos': 1, 'qtd_cargos': 2},\n",
              " {'nome': 'ALAN LOPES', 'qtd_mandatos': 1, 'qtd_cargos': 16},\n",
              " {'nome': 'CARLOS TAKAHASHI', 'qtd_mandatos': 1, 'qtd_cargos': 1},\n",
              " {'nome': 'ASSIR PEREIRA', 'qtd_mandatos': 1, 'qtd_cargos': 4},\n",
              " {'nome': 'CALVO', 'qtd_mandatos': 4, 'qtd_cargos': 32},\n",
              " {'nome': 'MISSIONÁRIO JOSÉ OLÍMPIO', 'qtd_mandatos': 4, 'qtd_cargos': 26},\n",
              " {'nome': 'MYRYAM ATHIE', 'qtd_mandatos': 3, 'qtd_cargos': 16},\n",
              " {'nome': 'ROBERTO ROJAO', 'qtd_mandatos': 1, 'qtd_cargos': 1},\n",
              " {'nome': 'JOÃO ANTONIO', 'qtd_mandatos': 4, 'qtd_cargos': 16},\n",
              " {'nome': 'CARMINO PEPE', 'qtd_mandatos': 1, 'qtd_cargos': 1},\n",
              " {'nome': 'TRUJILLO ALVES', 'qtd_mandatos': 1, 'qtd_cargos': 1},\n",
              " {'nome': 'BETO CUSTODIO', 'qtd_mandatos': 2, 'qtd_cargos': 8},\n",
              " {'nome': 'ALCIDES AMAZONAS', 'qtd_mandatos': 1, 'qtd_cargos': 5},\n",
              " {'nome': 'AUGUSTO CAMPOS', 'qtd_mandatos': 1, 'qtd_cargos': 5},\n",
              " {'nome': 'ERASMO DIAS', 'qtd_mandatos': 1, 'qtd_cargos': 6},\n",
              " {'nome': 'TONINHO CAMPANHA', 'qtd_mandatos': 1, 'qtd_cargos': 5},\n",
              " {'nome': 'ATÍLIO FRANCISCO', 'qtd_mandatos': 6, 'qtd_cargos': 32},\n",
              " {'nome': 'CARLOS BEZERRA JR.', 'qtd_mandatos': 4, 'qtd_cargos': 23},\n",
              " {'nome': 'CARLOS APOLINARIO', 'qtd_mandatos': 3, 'qtd_cargos': 18},\n",
              " {'nome': 'CARLOS GIANNAZI', 'qtd_mandatos': 2, 'qtd_cargos': 11},\n",
              " {'nome': 'CELSO JATENE', 'qtd_mandatos': 5, 'qtd_cargos': 25},\n",
              " {'nome': 'ELISEU GABRIEL', 'qtd_mandatos': 6, 'qtd_cargos': 27},\n",
              " {'nome': 'GILBERTO NATALINI', 'qtd_mandatos': 5, 'qtd_cargos': 34},\n",
              " {'nome': 'JOSE LAURINDO', 'qtd_mandatos': 1, 'qtd_cargos': 8},\n",
              " {'nome': 'RICARDO MONTORO', 'qtd_mandatos': 2, 'qtd_cargos': 10},\n",
              " {'nome': 'FARHAT', 'qtd_mandatos': 2, 'qtd_cargos': 15},\n",
              " {'nome': 'ANTONIO CARLOS RODRIGUES', 'qtd_mandatos': 4, 'qtd_cargos': 19},\n",
              " {'nome': 'CLAUDIO FONSECA', 'qtd_mandatos': 4, 'qtd_cargos': 18},\n",
              " {'nome': 'HAVANIR NIMTZ', 'qtd_mandatos': 1, 'qtd_cargos': 3},\n",
              " {'nome': 'NABIL BONDUKI', 'qtd_mandatos': 3, 'qtd_cargos': 14},\n",
              " {'nome': 'RAUL CORTEZ', 'qtd_mandatos': 1, 'qtd_cargos': 3},\n",
              " {'nome': 'ROGER LIN', 'qtd_mandatos': 1, 'qtd_cargos': 6},\n",
              " {'nome': 'HUMBERTO MARTINS', 'qtd_mandatos': 1, 'qtd_cargos': 8},\n",
              " {'nome': 'LUCILA PIZANI GONÇALVES', 'qtd_mandatos': 1, 'qtd_cargos': 5},\n",
              " {'nome': 'MARCOS ZERBINI', 'qtd_mandatos': 2, 'qtd_cargos': 9},\n",
              " {'nome': 'WILLIAM WOO', 'qtd_mandatos': 2, 'qtd_cargos': 12},\n",
              " {'nome': 'ANTONIO PAES - BARATÃO', 'qtd_mandatos': 1, 'qtd_cargos': 3},\n",
              " {'nome': 'VANDERLEI JANGROSSI', 'qtd_mandatos': 1, 'qtd_cargos': 6},\n",
              " {'nome': 'FLAVIA PEREIRA', 'qtd_mandatos': 1, 'qtd_cargos': 5},\n",
              " {'nome': 'FRANCISCO CHAGAS', 'qtd_mandatos': 4, 'qtd_cargos': 17},\n",
              " {'nome': 'CLAUDETE ALVES', 'qtd_mandatos': 2, 'qtd_cargos': 7},\n",
              " {'nome': 'JOSE NOGUEIRA', 'qtd_mandatos': 1, 'qtd_cargos': 3},\n",
              " {'nome': 'JOSÉ FERREIRA (ZELÃO)', 'qtd_mandatos': 3, 'qtd_cargos': 15},\n",
              " {'nome': 'MANOEL CRUZ', 'qtd_mandatos': 1, 'qtd_cargos': 2},\n",
              " {'nome': 'ZELIA LOPES - D ZELIA', 'qtd_mandatos': 1, 'qtd_cargos': 3},\n",
              " {'nome': 'TIÃO BEZERRA', 'qtd_mandatos': 1, 'qtd_cargos': 2},\n",
              " {'nome': 'ADEMIR DA GUIA', 'qtd_mandatos': 1, 'qtd_cargos': 10},\n",
              " {'nome': 'ADILSON AMADEU', 'qtd_mandatos': 5, 'qtd_cargos': 26},\n",
              " {'nome': 'ABOU ANNI', 'qtd_mandatos': 4, 'qtd_cargos': 24},\n",
              " {'nome': 'AGNALDO TIMÓTEO', 'qtd_mandatos': 2, 'qtd_cargos': 16},\n",
              " {'nome': 'AURÉLIO MIGUEL', 'qtd_mandatos': 3, 'qtd_cargos': 28},\n",
              " {'nome': 'CLAUDINHO DE SOUZA', 'qtd_mandatos': 4, 'qtd_cargos': 25},\n",
              " {'nome': 'CLÁUDIO PRADO', 'qtd_mandatos': 2, 'qtd_cargos': 13},\n",
              " {'nome': 'CHICO MACENA', 'qtd_mandatos': 2, 'qtd_cargos': 11},\n",
              " {'nome': 'TIÃO FARIAS', 'qtd_mandatos': 2, 'qtd_cargos': 13},\n",
              " {'nome': 'JOSÉ ANÍBAL', 'qtd_mandatos': 1, 'qtd_cargos': 2},\n",
              " {'nome': 'JOSÉ POLICE NETO', 'qtd_mandatos': 4, 'qtd_cargos': 70},\n",
              " {'nome': 'LENICE LEMOS', 'qtd_mandatos': 1, 'qtd_cargos': 10},\n",
              " {'nome': 'MARTA COSTA', 'qtd_mandatos': 3, 'qtd_cargos': 17},\n",
              " {'nome': 'PAULO FIORILO', 'qtd_mandatos': 2, 'qtd_cargos': 14},\n",
              " {'nome': 'ADOLFO QUINTAS', 'qtd_mandatos': 3, 'qtd_cargos': 14},\n",
              " {'nome': 'ANTONIO DONATO', 'qtd_mandatos': 5, 'qtd_cargos': 38},\n",
              " {'nome': 'JORGE BORGES', 'qtd_mandatos': 1, 'qtd_cargos': 5},\n",
              " {'nome': 'JORGE TADEU', 'qtd_mandatos': 1, 'qtd_cargos': 2},\n",
              " {'nome': 'JUSCELINO GADELHA', 'qtd_mandatos': 2, 'qtd_cargos': 18},\n",
              " {'nome': 'NOEMI NONATO', 'qtd_mandatos': 5, 'qtd_cargos': 22},\n",
              " {'nome': 'PAULO TEIXEIRA', 'qtd_mandatos': 1, 'qtd_cargos': 4},\n",
              " {'nome': 'ATTILA RUSSOMANNO', 'qtd_mandatos': 2, 'qtd_cargos': 8},\n",
              " {'nome': 'SONINHA FRANCINE', 'qtd_mandatos': 2, 'qtd_cargos': 28},\n",
              " {'nome': 'QUITO FORMIGA', 'qtd_mandatos': 4, 'qtd_cargos': 40},\n",
              " {'nome': 'VITÓRIA NOGUEIRA', 'qtd_mandatos': 1, 'qtd_cargos': 1},\n",
              " {'nome': 'JORGE PEREZ', 'qtd_mandatos': 1, 'qtd_cargos': 1},\n",
              " {'nome': 'SENIVAL MOURA', 'qtd_mandatos': 5, 'qtd_cargos': 35},\n",
              " {'nome': 'BILU VILLELA', 'qtd_mandatos': 1, 'qtd_cargos': 2},\n",
              " {'nome': 'MÁRCIO YOUSSEF', 'qtd_mandatos': 1, 'qtd_cargos': 2},\n",
              " {'nome': 'ALFREDINHO', 'qtd_mandatos': 5, 'qtd_cargos': 37},\n",
              " {'nome': 'MARA GABRILLI', 'qtd_mandatos': 2, 'qtd_cargos': 7},\n",
              " {'nome': 'RICARDO TEIXEIRA', 'qtd_mandatos': 5, 'qtd_cargos': 34},\n",
              " {'nome': 'JOSÉ ROLIM', 'qtd_mandatos': 2, 'qtd_cargos': 8},\n",
              " {'nome': 'PENNA', 'qtd_mandatos': 1, 'qtd_cargos': 3},\n",
              " {'nome': 'JAMIL MURAD', 'qtd_mandatos': 2, 'qtd_cargos': 21},\n",
              " {'nome': 'GABRIEL CHALITA', 'qtd_mandatos': 1, 'qtd_cargos': 4},\n",
              " {'nome': 'MARCELO AGUIAR', 'qtd_mandatos': 1, 'qtd_cargos': 2},\n",
              " {'nome': 'MARCO AURELIO CUNHA', 'qtd_mandatos': 2, 'qtd_cargos': 13},\n",
              " {'nome': 'FLORIANO PESARO', 'qtd_mandatos': 2, 'qtd_cargos': 28},\n",
              " {'nome': 'SOUZA SANTOS', 'qtd_mandatos': 3, 'qtd_cargos': 22},\n",
              " {'nome': 'JULIANA CARDOSO', 'qtd_mandatos': 4, 'qtd_cargos': 38},\n",
              " {'nome': 'SANDRA TADEU', 'qtd_mandatos': 4, 'qtd_cargos': 34},\n",
              " {'nome': 'MILTON FERREIRA', 'qtd_mandatos': 3, 'qtd_cargos': 22},\n",
              " {'nome': 'NETINHO DE PAULA', 'qtd_mandatos': 2, 'qtd_cargos': 13},\n",
              " {'nome': 'EDIR SALES', 'qtd_mandatos': 4, 'qtd_cargos': 29},\n",
              " {'nome': 'ANIBAL DE FREITAS FILHO', 'qtd_mandatos': 2, 'qtd_cargos': 15},\n",
              " {'nome': 'HEIDA LI', 'qtd_mandatos': 1, 'qtd_cargos': 2},\n",
              " {'nome': 'DAVID SOARES', 'qtd_mandatos': 3, 'qtd_cargos': 13},\n",
              " {'nome': 'AFANASIO JAZADJI', 'qtd_mandatos': 1, 'qtd_cargos': 0},\n",
              " {'nome': 'SALOMÃO PEREIRA', 'qtd_mandatos': 2, 'qtd_cargos': 15},\n",
              " {'nome': 'EVERSON MARCOS', 'qtd_mandatos': 1, 'qtd_cargos': 1},\n",
              " {'nome': 'VICTOR KOBAYASHI', 'qtd_mandatos': 1, 'qtd_cargos': 1},\n",
              " {'nome': 'FERNANDO ESTIMA', 'qtd_mandatos': 1, 'qtd_cargos': 3},\n",
              " {'nome': 'OLIVEIRA', 'qtd_mandatos': 1, 'qtd_cargos': 4},\n",
              " {'nome': 'MARQUITO', 'qtd_mandatos': 1, 'qtd_cargos': 6},\n",
              " {'nome': 'RICARDO YOUNG', 'qtd_mandatos': 1, 'qtd_cargos': 4},\n",
              " {'nome': 'OTA', 'qtd_mandatos': 2, 'qtd_cargos': 9},\n",
              " {'nome': 'MARIO COVAS NETO', 'qtd_mandatos': 2, 'qtd_cargos': 15},\n",
              " {'nome': 'REIS', 'qtd_mandatos': 2, 'qtd_cargos': 18},\n",
              " {'nome': 'VAVÁ', 'qtd_mandatos': 1, 'qtd_cargos': 10},\n",
              " {'nome': 'ORLANDO SILVA', 'qtd_mandatos': 1, 'qtd_cargos': 2},\n",
              " {'nome': 'LAÉRCIO BENKO', 'qtd_mandatos': 1, 'qtd_cargos': 10},\n",
              " {'nome': 'GEORGE HATO', 'qtd_mandatos': 3, 'qtd_cargos': 27},\n",
              " {'nome': 'RICARDO NUNES', 'qtd_mandatos': 2, 'qtd_cargos': 13},\n",
              " {'nome': 'ARI FRIEDENBACH', 'qtd_mandatos': 1, 'qtd_cargos': 11},\n",
              " {'nome': 'JEAN MADEIRA', 'qtd_mandatos': 1, 'qtd_cargos': 5},\n",
              " {'nome': 'CORONEL CAMILO', 'qtd_mandatos': 1, 'qtd_cargos': 6},\n",
              " {'nome': 'ANDREA MATARAZZO', 'qtd_mandatos': 1, 'qtd_cargos': 13},\n",
              " {'nome': 'CORONEL TELHADA', 'qtd_mandatos': 1, 'qtd_cargos': 5},\n",
              " {'nome': 'EDUARDO TUMA', 'qtd_mandatos': 2, 'qtd_cargos': 18},\n",
              " {'nome': 'PATRÍCIA BEZERRA', 'qtd_mandatos': 2, 'qtd_cargos': 28},\n",
              " {'nome': 'PROFESSOR TONINHO VESPOLI', 'qtd_mandatos': 3, 'qtd_cargos': 8},\n",
              " {'nome': 'ALESSANDRO GUEDES', 'qtd_mandatos': 3, 'qtd_cargos': 22},\n",
              " {'nome': 'JAIR TATTO', 'qtd_mandatos': 3, 'qtd_cargos': 20},\n",
              " {'nome': 'CONTE LOPES', 'qtd_mandatos': 2, 'qtd_cargos': 9},\n",
              " {'nome': 'PR. EDEMILSON CHAVES', 'qtd_mandatos': 1, 'qtd_cargos': 7},\n",
              " {'nome': 'APARECIDO SIDNEY DE OLIVEIRA', 'qtd_mandatos': 1, 'qtd_cargos': 0},\n",
              " {'nome': 'MARCOS BELIZÁRIO', 'qtd_mandatos': 1, 'qtd_cargos': 4},\n",
              " {'nome': 'VALDECIR CABRABOM', 'qtd_mandatos': 1, 'qtd_cargos': 8},\n",
              " {'nome': 'JONAS CAMISA NOVA', 'qtd_mandatos': 2, 'qtd_cargos': 7},\n",
              " {'nome': 'RODOLFO DESPACHANTE', 'qtd_mandatos': 2, 'qtd_cargos': 9},\n",
              " {'nome': 'JOSELITO', 'qtd_mandatos': 1, 'qtd_cargos': 1},\n",
              " {'nome': 'ADRIANA RAMALHO', 'qtd_mandatos': 1, 'qtd_cargos': 19},\n",
              " {'nome': 'ALINE CARDOSO', 'qtd_mandatos': 1, 'qtd_cargos': 6},\n",
              " {'nome': 'FABIO RIVA', 'qtd_mandatos': 2, 'qtd_cargos': 21},\n",
              " {'nome': 'FERNANDO HOLIDAY', 'qtd_mandatos': 2, 'qtd_cargos': 17},\n",
              " {'nome': 'GILBERTO NASCIMENTO', 'qtd_mandatos': 2, 'qtd_cargos': 18},\n",
              " {'nome': 'ISAC FELIX', 'qtd_mandatos': 2, 'qtd_cargos': 12},\n",
              " {'nome': 'SÂMIA BOMFIM', 'qtd_mandatos': 1, 'qtd_cargos': 3},\n",
              " {'nome': 'DANIEL ANNENBERG', 'qtd_mandatos': 2, 'qtd_cargos': 12},\n",
              " {'nome': 'ANDRÉ SANTOS', 'qtd_mandatos': 2, 'qtd_cargos': 20},\n",
              " {'nome': 'ZÉ TURIN', 'qtd_mandatos': 1, 'qtd_cargos': 8},\n",
              " {'nome': 'RINALDI DIGILIO', 'qtd_mandatos': 2, 'qtd_cargos': 10},\n",
              " {'nome': 'RODRIGO GOULART', 'qtd_mandatos': 2, 'qtd_cargos': 13},\n",
              " {'nome': 'CAMILO CRISTÓFARO', 'qtd_mandatos': 2, 'qtd_cargos': 9},\n",
              " {'nome': 'JANAÍNA LIMA', 'qtd_mandatos': 2, 'qtd_cargos': 19},\n",
              " {'nome': 'CAIO MIRANDA CARNEIRO', 'qtd_mandatos': 1, 'qtd_cargos': 12},\n",
              " {'nome': 'XEXÉU TRIPOLI', 'qtd_mandatos': 2, 'qtd_cargos': 10},\n",
              " {'nome': 'RUTE COSTA', 'qtd_mandatos': 2, 'qtd_cargos': 23},\n",
              " {'nome': 'JOÃO JORGE', 'qtd_mandatos': 2, 'qtd_cargos': 17},\n",
              " {'nome': 'RODRIGO GOMES', 'qtd_mandatos': 1, 'qtd_cargos': 1},\n",
              " {'nome': 'ISA PENNA', 'qtd_mandatos': 1, 'qtd_cargos': 1},\n",
              " {'nome': 'AMAURI SILVA', 'qtd_mandatos': 1, 'qtd_cargos': 2},\n",
              " {'nome': 'MANOEL DEL RIO', 'qtd_mandatos': 1, 'qtd_cargos': 1},\n",
              " {'nome': 'CELSO GIANNAZI', 'qtd_mandatos': 2, 'qtd_cargos': 10},\n",
              " {'nome': 'BETO DO SOCIAL', 'qtd_mandatos': 1, 'qtd_cargos': 5},\n",
              " {'nome': 'EDSON APARECIDO', 'qtd_mandatos': 1, 'qtd_cargos': 1},\n",
              " {'nome': 'RODRIGO FONSECA', 'qtd_mandatos': 1, 'qtd_cargos': 1},\n",
              " {'nome': 'LUANA ALVES', 'qtd_mandatos': 1, 'qtd_cargos': 5},\n",
              " {'nome': 'SILVIA DA BANCADA FEMINISTA', 'qtd_mandatos': 1, 'qtd_cargos': 4},\n",
              " {'nome': 'ERIKA HILTON', 'qtd_mandatos': 1, 'qtd_cargos': 4},\n",
              " {'nome': 'ELAINE DO QUILOMBO PERIFÉRICO', 'qtd_mandatos': 1, 'qtd_cargos': 5},\n",
              " {'nome': 'DANILO DO POSTO DE SAÚDE', 'qtd_mandatos': 1, 'qtd_cargos': 4},\n",
              " {'nome': 'ELY TERUEL', 'qtd_mandatos': 1, 'qtd_cargos': 4},\n",
              " {'nome': 'DR SIDNEY CRUZ', 'qtd_mandatos': 1, 'qtd_cargos': 6},\n",
              " {'nome': 'FARIA DE SÁ', 'qtd_mandatos': 1, 'qtd_cargos': 5},\n",
              " {'nome': 'RUBINHO NUNES', 'qtd_mandatos': 1, 'qtd_cargos': 4},\n",
              " {'nome': 'MARLON LUZ', 'qtd_mandatos': 1, 'qtd_cargos': 3},\n",
              " {'nome': 'SONAIRA FERNANDES', 'qtd_mandatos': 1, 'qtd_cargos': 4},\n",
              " {'nome': 'SANSÃO PEREIRA', 'qtd_mandatos': 1, 'qtd_cargos': 4},\n",
              " {'nome': 'THAMMY MIRANDA', 'qtd_mandatos': 1, 'qtd_cargos': 2},\n",
              " {'nome': 'MARCELO MESSIAS', 'qtd_mandatos': 1, 'qtd_cargos': 6},\n",
              " {'nome': 'DELEGADO PALUMBO', 'qtd_mandatos': 1, 'qtd_cargos': 4},\n",
              " {'nome': 'ELI CORRÊA', 'qtd_mandatos': 1, 'qtd_cargos': 4},\n",
              " {'nome': 'CRIS MONTEIRO', 'qtd_mandatos': 1, 'qtd_cargos': 7},\n",
              " {'nome': 'FELIPE BECARI', 'qtd_mandatos': 1, 'qtd_cargos': 3},\n",
              " {'nome': 'SANDRA SANTANA', 'qtd_mandatos': 1, 'qtd_cargos': 7},\n",
              " {'nome': 'RENATA FALZONI', 'qtd_mandatos': 1, 'qtd_cargos': 1},\n",
              " {'nome': 'FELIPE FRANCO', 'qtd_mandatos': 1, 'qtd_cargos': 1},\n",
              " {'nome': 'LIGIERI', 'qtd_mandatos': 1, 'qtd_cargos': 1},\n",
              " {'nome': 'BIOTO NPN', 'qtd_mandatos': 1, 'qtd_cargos': 2},\n",
              " {'nome': 'DR. ADRIANO SANTOS', 'qtd_mandatos': 1, 'qtd_cargos': 1},\n",
              " {'nome': 'JORGE WILSON FILHO', 'qtd_mandatos': 1, 'qtd_cargos': 2},\n",
              " {'nome': 'BOMBEIRO MAJOR PALUMBO', 'qtd_mandatos': 1, 'qtd_cargos': 2},\n",
              " {'nome': 'LUIZ PROTEÇÃO ANIMAL', 'qtd_mandatos': 1, 'qtd_cargos': 1}]"
            ]
          },
          "metadata": {},
          "execution_count": 14
        }
      ]
    },
    {
      "cell_type": "code",
      "source": [
        "resultados_df = pd.DataFrame(lista_novos_dados)\n",
        "resultados_df.head()"
      ],
      "metadata": {
        "colab": {
          "base_uri": "https://localhost:8080/",
          "height": 206
        },
        "id": "36SqFGqjpY06",
        "outputId": "08b083a8-4102-4e66-f7f6-8e5f6897c203"
      },
      "execution_count": 21,
      "outputs": [
        {
          "output_type": "execute_result",
          "data": {
            "text/plain": [
              "                       nome  qtd_mandatos  qtd_cargos\n",
              "0           ALBERTINO NOBRE             2           4\n",
              "1           ALFREDO MARTINS             2           4\n",
              "2           ALMIR GUIMARAES             3           6\n",
              "3  ANTONIO CARLOS FERNANDES             1           0\n",
              "4          ANDRADE FIGUEIRA             2           1"
            ],
            "text/html": [
              "\n",
              "  <div id=\"df-4875de96-061c-468f-973d-cac0bc629ebf\">\n",
              "    <div class=\"colab-df-container\">\n",
              "      <div>\n",
              "<style scoped>\n",
              "    .dataframe tbody tr th:only-of-type {\n",
              "        vertical-align: middle;\n",
              "    }\n",
              "\n",
              "    .dataframe tbody tr th {\n",
              "        vertical-align: top;\n",
              "    }\n",
              "\n",
              "    .dataframe thead th {\n",
              "        text-align: right;\n",
              "    }\n",
              "</style>\n",
              "<table border=\"1\" class=\"dataframe\">\n",
              "  <thead>\n",
              "    <tr style=\"text-align: right;\">\n",
              "      <th></th>\n",
              "      <th>nome</th>\n",
              "      <th>qtd_mandatos</th>\n",
              "      <th>qtd_cargos</th>\n",
              "    </tr>\n",
              "  </thead>\n",
              "  <tbody>\n",
              "    <tr>\n",
              "      <th>0</th>\n",
              "      <td>ALBERTINO NOBRE</td>\n",
              "      <td>2</td>\n",
              "      <td>4</td>\n",
              "    </tr>\n",
              "    <tr>\n",
              "      <th>1</th>\n",
              "      <td>ALFREDO MARTINS</td>\n",
              "      <td>2</td>\n",
              "      <td>4</td>\n",
              "    </tr>\n",
              "    <tr>\n",
              "      <th>2</th>\n",
              "      <td>ALMIR GUIMARAES</td>\n",
              "      <td>3</td>\n",
              "      <td>6</td>\n",
              "    </tr>\n",
              "    <tr>\n",
              "      <th>3</th>\n",
              "      <td>ANTONIO CARLOS FERNANDES</td>\n",
              "      <td>1</td>\n",
              "      <td>0</td>\n",
              "    </tr>\n",
              "    <tr>\n",
              "      <th>4</th>\n",
              "      <td>ANDRADE FIGUEIRA</td>\n",
              "      <td>2</td>\n",
              "      <td>1</td>\n",
              "    </tr>\n",
              "  </tbody>\n",
              "</table>\n",
              "</div>\n",
              "      <button class=\"colab-df-convert\" onclick=\"convertToInteractive('df-4875de96-061c-468f-973d-cac0bc629ebf')\"\n",
              "              title=\"Convert this dataframe to an interactive table.\"\n",
              "              style=\"display:none;\">\n",
              "        \n",
              "  <svg xmlns=\"http://www.w3.org/2000/svg\" height=\"24px\"viewBox=\"0 0 24 24\"\n",
              "       width=\"24px\">\n",
              "    <path d=\"M0 0h24v24H0V0z\" fill=\"none\"/>\n",
              "    <path d=\"M18.56 5.44l.94 2.06.94-2.06 2.06-.94-2.06-.94-.94-2.06-.94 2.06-2.06.94zm-11 1L8.5 8.5l.94-2.06 2.06-.94-2.06-.94L8.5 2.5l-.94 2.06-2.06.94zm10 10l.94 2.06.94-2.06 2.06-.94-2.06-.94-.94-2.06-.94 2.06-2.06.94z\"/><path d=\"M17.41 7.96l-1.37-1.37c-.4-.4-.92-.59-1.43-.59-.52 0-1.04.2-1.43.59L10.3 9.45l-7.72 7.72c-.78.78-.78 2.05 0 2.83L4 21.41c.39.39.9.59 1.41.59.51 0 1.02-.2 1.41-.59l7.78-7.78 2.81-2.81c.8-.78.8-2.07 0-2.86zM5.41 20L4 18.59l7.72-7.72 1.47 1.35L5.41 20z\"/>\n",
              "  </svg>\n",
              "      </button>\n",
              "      \n",
              "  <style>\n",
              "    .colab-df-container {\n",
              "      display:flex;\n",
              "      flex-wrap:wrap;\n",
              "      gap: 12px;\n",
              "    }\n",
              "\n",
              "    .colab-df-convert {\n",
              "      background-color: #E8F0FE;\n",
              "      border: none;\n",
              "      border-radius: 50%;\n",
              "      cursor: pointer;\n",
              "      display: none;\n",
              "      fill: #1967D2;\n",
              "      height: 32px;\n",
              "      padding: 0 0 0 0;\n",
              "      width: 32px;\n",
              "    }\n",
              "\n",
              "    .colab-df-convert:hover {\n",
              "      background-color: #E2EBFA;\n",
              "      box-shadow: 0px 1px 2px rgba(60, 64, 67, 0.3), 0px 1px 3px 1px rgba(60, 64, 67, 0.15);\n",
              "      fill: #174EA6;\n",
              "    }\n",
              "\n",
              "    [theme=dark] .colab-df-convert {\n",
              "      background-color: #3B4455;\n",
              "      fill: #D2E3FC;\n",
              "    }\n",
              "\n",
              "    [theme=dark] .colab-df-convert:hover {\n",
              "      background-color: #434B5C;\n",
              "      box-shadow: 0px 1px 3px 1px rgba(0, 0, 0, 0.15);\n",
              "      filter: drop-shadow(0px 1px 2px rgba(0, 0, 0, 0.3));\n",
              "      fill: #FFFFFF;\n",
              "    }\n",
              "  </style>\n",
              "\n",
              "      <script>\n",
              "        const buttonEl =\n",
              "          document.querySelector('#df-4875de96-061c-468f-973d-cac0bc629ebf button.colab-df-convert');\n",
              "        buttonEl.style.display =\n",
              "          google.colab.kernel.accessAllowed ? 'block' : 'none';\n",
              "\n",
              "        async function convertToInteractive(key) {\n",
              "          const element = document.querySelector('#df-4875de96-061c-468f-973d-cac0bc629ebf');\n",
              "          const dataTable =\n",
              "            await google.colab.kernel.invokeFunction('convertToInteractive',\n",
              "                                                     [key], {});\n",
              "          if (!dataTable) return;\n",
              "\n",
              "          const docLinkHtml = 'Like what you see? Visit the ' +\n",
              "            '<a target=\"_blank\" href=https://colab.research.google.com/notebooks/data_table.ipynb>data table notebook</a>'\n",
              "            + ' to learn more about interactive tables.';\n",
              "          element.innerHTML = '';\n",
              "          dataTable['output_type'] = 'display_data';\n",
              "          await google.colab.output.renderOutput(dataTable, element);\n",
              "          const docLink = document.createElement('div');\n",
              "          docLink.innerHTML = docLinkHtml;\n",
              "          element.appendChild(docLink);\n",
              "        }\n",
              "      </script>\n",
              "    </div>\n",
              "  </div>\n",
              "  "
            ]
          },
          "metadata": {},
          "execution_count": 21
        }
      ]
    },
    {
      "cell_type": "code",
      "source": [
        "resultados_df.sort_values(['qtd_mandatos', 'qtd_cargos'], ascending=False)[['nome', 'qtd_mandatos', 'qtd_cargos']].head(10)"
      ],
      "metadata": {
        "colab": {
          "base_uri": "https://localhost:8080/",
          "height": 363
        },
        "id": "53W2tFkHpY3h",
        "outputId": "64b70283-0a59-45ca-b122-4a51eb61a570"
      },
      "execution_count": 23,
      "outputs": [
        {
          "output_type": "execute_result",
          "data": {
            "text/plain": [
              "                nome  qtd_mandatos  qtd_cargos\n",
              "90    GILSON BARRETO             9          48\n",
              "60    ARSELINO TATTO             9          30\n",
              "121   AURÉLIO NOMURA             8          41\n",
              "79   ROBERTO TRÍPOLI             8          38\n",
              "38      WADIH MUTRAN             8          28\n",
              "143     MILTON LEITE             7          39\n",
              "117    TONINHO PAIVA             7          38\n",
              "137     PAULO FRANGE             7          38\n",
              "21        JOOJI HATO             7          27\n",
              "138   DALTON SILVANO             6          64"
            ],
            "text/html": [
              "\n",
              "  <div id=\"df-249e4cd2-309a-4157-9e55-65270f82cd2f\">\n",
              "    <div class=\"colab-df-container\">\n",
              "      <div>\n",
              "<style scoped>\n",
              "    .dataframe tbody tr th:only-of-type {\n",
              "        vertical-align: middle;\n",
              "    }\n",
              "\n",
              "    .dataframe tbody tr th {\n",
              "        vertical-align: top;\n",
              "    }\n",
              "\n",
              "    .dataframe thead th {\n",
              "        text-align: right;\n",
              "    }\n",
              "</style>\n",
              "<table border=\"1\" class=\"dataframe\">\n",
              "  <thead>\n",
              "    <tr style=\"text-align: right;\">\n",
              "      <th></th>\n",
              "      <th>nome</th>\n",
              "      <th>qtd_mandatos</th>\n",
              "      <th>qtd_cargos</th>\n",
              "    </tr>\n",
              "  </thead>\n",
              "  <tbody>\n",
              "    <tr>\n",
              "      <th>90</th>\n",
              "      <td>GILSON BARRETO</td>\n",
              "      <td>9</td>\n",
              "      <td>48</td>\n",
              "    </tr>\n",
              "    <tr>\n",
              "      <th>60</th>\n",
              "      <td>ARSELINO TATTO</td>\n",
              "      <td>9</td>\n",
              "      <td>30</td>\n",
              "    </tr>\n",
              "    <tr>\n",
              "      <th>121</th>\n",
              "      <td>AURÉLIO NOMURA</td>\n",
              "      <td>8</td>\n",
              "      <td>41</td>\n",
              "    </tr>\n",
              "    <tr>\n",
              "      <th>79</th>\n",
              "      <td>ROBERTO TRÍPOLI</td>\n",
              "      <td>8</td>\n",
              "      <td>38</td>\n",
              "    </tr>\n",
              "    <tr>\n",
              "      <th>38</th>\n",
              "      <td>WADIH MUTRAN</td>\n",
              "      <td>8</td>\n",
              "      <td>28</td>\n",
              "    </tr>\n",
              "    <tr>\n",
              "      <th>143</th>\n",
              "      <td>MILTON LEITE</td>\n",
              "      <td>7</td>\n",
              "      <td>39</td>\n",
              "    </tr>\n",
              "    <tr>\n",
              "      <th>117</th>\n",
              "      <td>TONINHO PAIVA</td>\n",
              "      <td>7</td>\n",
              "      <td>38</td>\n",
              "    </tr>\n",
              "    <tr>\n",
              "      <th>137</th>\n",
              "      <td>PAULO FRANGE</td>\n",
              "      <td>7</td>\n",
              "      <td>38</td>\n",
              "    </tr>\n",
              "    <tr>\n",
              "      <th>21</th>\n",
              "      <td>JOOJI HATO</td>\n",
              "      <td>7</td>\n",
              "      <td>27</td>\n",
              "    </tr>\n",
              "    <tr>\n",
              "      <th>138</th>\n",
              "      <td>DALTON SILVANO</td>\n",
              "      <td>6</td>\n",
              "      <td>64</td>\n",
              "    </tr>\n",
              "  </tbody>\n",
              "</table>\n",
              "</div>\n",
              "      <button class=\"colab-df-convert\" onclick=\"convertToInteractive('df-249e4cd2-309a-4157-9e55-65270f82cd2f')\"\n",
              "              title=\"Convert this dataframe to an interactive table.\"\n",
              "              style=\"display:none;\">\n",
              "        \n",
              "  <svg xmlns=\"http://www.w3.org/2000/svg\" height=\"24px\"viewBox=\"0 0 24 24\"\n",
              "       width=\"24px\">\n",
              "    <path d=\"M0 0h24v24H0V0z\" fill=\"none\"/>\n",
              "    <path d=\"M18.56 5.44l.94 2.06.94-2.06 2.06-.94-2.06-.94-.94-2.06-.94 2.06-2.06.94zm-11 1L8.5 8.5l.94-2.06 2.06-.94-2.06-.94L8.5 2.5l-.94 2.06-2.06.94zm10 10l.94 2.06.94-2.06 2.06-.94-2.06-.94-.94-2.06-.94 2.06-2.06.94z\"/><path d=\"M17.41 7.96l-1.37-1.37c-.4-.4-.92-.59-1.43-.59-.52 0-1.04.2-1.43.59L10.3 9.45l-7.72 7.72c-.78.78-.78 2.05 0 2.83L4 21.41c.39.39.9.59 1.41.59.51 0 1.02-.2 1.41-.59l7.78-7.78 2.81-2.81c.8-.78.8-2.07 0-2.86zM5.41 20L4 18.59l7.72-7.72 1.47 1.35L5.41 20z\"/>\n",
              "  </svg>\n",
              "      </button>\n",
              "      \n",
              "  <style>\n",
              "    .colab-df-container {\n",
              "      display:flex;\n",
              "      flex-wrap:wrap;\n",
              "      gap: 12px;\n",
              "    }\n",
              "\n",
              "    .colab-df-convert {\n",
              "      background-color: #E8F0FE;\n",
              "      border: none;\n",
              "      border-radius: 50%;\n",
              "      cursor: pointer;\n",
              "      display: none;\n",
              "      fill: #1967D2;\n",
              "      height: 32px;\n",
              "      padding: 0 0 0 0;\n",
              "      width: 32px;\n",
              "    }\n",
              "\n",
              "    .colab-df-convert:hover {\n",
              "      background-color: #E2EBFA;\n",
              "      box-shadow: 0px 1px 2px rgba(60, 64, 67, 0.3), 0px 1px 3px 1px rgba(60, 64, 67, 0.15);\n",
              "      fill: #174EA6;\n",
              "    }\n",
              "\n",
              "    [theme=dark] .colab-df-convert {\n",
              "      background-color: #3B4455;\n",
              "      fill: #D2E3FC;\n",
              "    }\n",
              "\n",
              "    [theme=dark] .colab-df-convert:hover {\n",
              "      background-color: #434B5C;\n",
              "      box-shadow: 0px 1px 3px 1px rgba(0, 0, 0, 0.15);\n",
              "      filter: drop-shadow(0px 1px 2px rgba(0, 0, 0, 0.3));\n",
              "      fill: #FFFFFF;\n",
              "    }\n",
              "  </style>\n",
              "\n",
              "      <script>\n",
              "        const buttonEl =\n",
              "          document.querySelector('#df-249e4cd2-309a-4157-9e55-65270f82cd2f button.colab-df-convert');\n",
              "        buttonEl.style.display =\n",
              "          google.colab.kernel.accessAllowed ? 'block' : 'none';\n",
              "\n",
              "        async function convertToInteractive(key) {\n",
              "          const element = document.querySelector('#df-249e4cd2-309a-4157-9e55-65270f82cd2f');\n",
              "          const dataTable =\n",
              "            await google.colab.kernel.invokeFunction('convertToInteractive',\n",
              "                                                     [key], {});\n",
              "          if (!dataTable) return;\n",
              "\n",
              "          const docLinkHtml = 'Like what you see? Visit the ' +\n",
              "            '<a target=\"_blank\" href=https://colab.research.google.com/notebooks/data_table.ipynb>data table notebook</a>'\n",
              "            + ' to learn more about interactive tables.';\n",
              "          element.innerHTML = '';\n",
              "          dataTable['output_type'] = 'display_data';\n",
              "          await google.colab.output.renderOutput(dataTable, element);\n",
              "          const docLink = document.createElement('div');\n",
              "          docLink.innerHTML = docLinkHtml;\n",
              "          element.appendChild(docLink);\n",
              "        }\n",
              "      </script>\n",
              "    </div>\n",
              "  </div>\n",
              "  "
            ]
          },
          "metadata": {},
          "execution_count": 23
        }
      ]
    },
    {
      "cell_type": "markdown",
      "source": [
        "# Salvando seu trabalho como uma tabela estruturada em csv."
      ],
      "metadata": {
        "id": "hzwwJ4qLvei6"
      }
    },
    {
      "cell_type": "code",
      "source": [
        "resultados_df.to_csv('lista_vereadores.csv', index=False)"
      ],
      "metadata": {
        "id": "Gz5nWTd2ukO3"
      },
      "execution_count": 24,
      "outputs": []
    },
    {
      "cell_type": "code",
      "source": [],
      "metadata": {
        "id": "5LNsOqtiukRc"
      },
      "execution_count": null,
      "outputs": []
    },
    {
      "cell_type": "code",
      "source": [],
      "metadata": {
        "id": "WQ7RmtR-ukUE"
      },
      "execution_count": null,
      "outputs": []
    },
    {
      "cell_type": "code",
      "source": [],
      "metadata": {
        "id": "xBQDAK_4ukW0"
      },
      "execution_count": null,
      "outputs": []
    },
    {
      "cell_type": "code",
      "source": [],
      "metadata": {
        "id": "lU5q5fSQukZA"
      },
      "execution_count": null,
      "outputs": []
    },
    {
      "cell_type": "code",
      "source": [],
      "metadata": {
        "id": "t8Hf9-XipY5c"
      },
      "execution_count": null,
      "outputs": []
    },
    {
      "cell_type": "code",
      "source": [],
      "metadata": {
        "id": "cA0EvihDZM4G"
      },
      "execution_count": null,
      "outputs": []
    }
  ]
}