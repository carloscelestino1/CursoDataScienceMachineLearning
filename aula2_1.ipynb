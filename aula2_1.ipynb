{
  "nbformat": 4,
  "nbformat_minor": 0,
  "metadata": {
    "colab": {
      "name": "aula2-1.ipynb",
      "provenance": [],
      "collapsed_sections": [],
      "authorship_tag": "ABX9TyNS9n5yWgFdGlbBN1IpodUD",
      "include_colab_link": true
    },
    "kernelspec": {
      "name": "python3",
      "display_name": "Python 3"
    },
    "language_info": {
      "name": "python"
    }
  },
  "cells": [
    {
      "cell_type": "markdown",
      "metadata": {
        "id": "view-in-github",
        "colab_type": "text"
      },
      "source": [
        "<a href=\"https://colab.research.google.com/github/carloscelestino1/Fuctura-aulas-DataScience-e-ML/blob/main/aula2_1.ipynb\" target=\"_parent\"><img src=\"https://colab.research.google.com/assets/colab-badge.svg\" alt=\"Open In Colab\"/></a>"
      ]
    },
    {
      "cell_type": "code",
      "source": [
        "import pandas as pd\n",
        "import numpy as np"
      ],
      "metadata": {
        "id": "spPBmryuLsQb"
      },
      "execution_count": 8,
      "outputs": []
    },
    {
      "cell_type": "code",
      "execution_count": 11,
      "metadata": {
        "id": "nCJPc7GnLirM"
      },
      "outputs": [],
      "source": [
        "serie1 = pd.Series([10,9,8,2,5])"
      ]
    },
    {
      "cell_type": "code",
      "source": [
        "serie1"
      ],
      "metadata": {
        "colab": {
          "base_uri": "https://localhost:8080/"
        },
        "id": "98rsox9bLsS-",
        "outputId": "4cc5a99a-9b07-49e3-b6ed-0fde5cc3a28c"
      },
      "execution_count": 12,
      "outputs": [
        {
          "output_type": "execute_result",
          "data": {
            "text/plain": [
              "0    10\n",
              "1     9\n",
              "2     8\n",
              "3     2\n",
              "4     5\n",
              "dtype: int64"
            ]
          },
          "metadata": {},
          "execution_count": 12
        }
      ]
    },
    {
      "cell_type": "code",
      "source": [
        "serie2 = pd.Series([4,7,6,3], index=[\"a\",\"b\",\"c\",\"d\"])\n",
        "serie2"
      ],
      "metadata": {
        "colab": {
          "base_uri": "https://localhost:8080/"
        },
        "id": "R0EULW3ULsVk",
        "outputId": "86272e29-4d44-45f6-e9d0-3311c2e0016f"
      },
      "execution_count": 13,
      "outputs": [
        {
          "output_type": "execute_result",
          "data": {
            "text/plain": [
              "a    4\n",
              "b    7\n",
              "c    6\n",
              "d    3\n",
              "dtype: int64"
            ]
          },
          "metadata": {},
          "execution_count": 13
        }
      ]
    },
    {
      "cell_type": "code",
      "source": [
        "serie2['c']"
      ],
      "metadata": {
        "colab": {
          "base_uri": "https://localhost:8080/"
        },
        "id": "4UZmq5geLsX6",
        "outputId": "88e4a2a5-211e-4e48-c347-ff9383ba1490"
      },
      "execution_count": 7,
      "outputs": [
        {
          "output_type": "execute_result",
          "data": {
            "text/plain": [
              "6"
            ]
          },
          "metadata": {},
          "execution_count": 7
        }
      ]
    },
    {
      "cell_type": "code",
      "source": [
        "serie1 = np.array([10,9,8,2,5])\n",
        "serie1"
      ],
      "metadata": {
        "colab": {
          "base_uri": "https://localhost:8080/"
        },
        "id": "uiaEUGUeLsaS",
        "outputId": "892d64db-3042-4607-c451-ea8c14fdef01"
      },
      "execution_count": 9,
      "outputs": [
        {
          "output_type": "execute_result",
          "data": {
            "text/plain": [
              "array([10,  9,  8,  2,  5])"
            ]
          },
          "metadata": {},
          "execution_count": 9
        }
      ]
    },
    {
      "cell_type": "code",
      "source": [
        "serie1.values"
      ],
      "metadata": {
        "colab": {
          "base_uri": "https://localhost:8080/"
        },
        "id": "oEVnLTfdLsrl",
        "outputId": "c301a18c-208d-4c1c-c0c7-a0accc0a13de"
      },
      "execution_count": 14,
      "outputs": [
        {
          "output_type": "execute_result",
          "data": {
            "text/plain": [
              "array([10,  9,  8,  2,  5])"
            ]
          },
          "metadata": {},
          "execution_count": 14
        }
      ]
    },
    {
      "cell_type": "code",
      "source": [
        "serie1.index"
      ],
      "metadata": {
        "colab": {
          "base_uri": "https://localhost:8080/"
        },
        "id": "hDcKNHuNLsuP",
        "outputId": "9a94bbe2-49d8-47d8-b955-611ee55b92aa"
      },
      "execution_count": 15,
      "outputs": [
        {
          "output_type": "execute_result",
          "data": {
            "text/plain": [
              "RangeIndex(start=0, stop=5, step=1)"
            ]
          },
          "metadata": {},
          "execution_count": 15
        }
      ]
    },
    {
      "cell_type": "code",
      "source": [
        "serie2 = pd.Series(np.random.rand(10), index = np.arange(1,11))\n",
        "serie2"
      ],
      "metadata": {
        "colab": {
          "base_uri": "https://localhost:8080/"
        },
        "id": "AhCSvKtaLsw5",
        "outputId": "0641127f-0a8d-4f4b-cc29-c1ac4d62a5b9"
      },
      "execution_count": 16,
      "outputs": [
        {
          "output_type": "execute_result",
          "data": {
            "text/plain": [
              "1     0.179699\n",
              "2     0.379540\n",
              "3     0.837324\n",
              "4     0.004939\n",
              "5     0.818431\n",
              "6     0.070959\n",
              "7     0.518274\n",
              "8     0.086544\n",
              "9     0.880357\n",
              "10    0.487344\n",
              "dtype: float64"
            ]
          },
          "metadata": {},
          "execution_count": 16
        }
      ]
    },
    {
      "cell_type": "code",
      "source": [
        "serie2 = pd.Series([True, 7,6,3], index = (4.5, 'b', 'c', 'd'))\n",
        "serie2"
      ],
      "metadata": {
        "colab": {
          "base_uri": "https://localhost:8080/"
        },
        "id": "DvZEDG7sLszs",
        "outputId": "234febfa-2bcc-4acc-e837-60b9cc769d46"
      },
      "execution_count": 17,
      "outputs": [
        {
          "output_type": "execute_result",
          "data": {
            "text/plain": [
              "4.5    True\n",
              "b         7\n",
              "c         6\n",
              "d         3\n",
              "dtype: object"
            ]
          },
          "metadata": {},
          "execution_count": 17
        }
      ]
    },
    {
      "cell_type": "code",
      "source": [
        "serie2['c']\n",
        "serie2[4.5]"
      ],
      "metadata": {
        "colab": {
          "base_uri": "https://localhost:8080/"
        },
        "id": "xo2fXaPgLs2V",
        "outputId": "eca60c20-0051-4d44-e409-ce05f3b5145f"
      },
      "execution_count": 21,
      "outputs": [
        {
          "output_type": "execute_result",
          "data": {
            "text/plain": [
              "True"
            ]
          },
          "metadata": {},
          "execution_count": 21
        }
      ]
    },
    {
      "cell_type": "code",
      "source": [
        "capitais = {\n",
        "    'Pernambuco': 'Recife',\n",
        "    'Paraiba': 'João Pessoa',\n",
        "    'Ceará': 'Fortaleza',\n",
        "    'Bahia': 'Salvador',\n",
        "    'Alagoas': 'Maceió'\n",
        "}"
      ],
      "metadata": {
        "id": "uQihpjEJLs4p"
      },
      "execution_count": 22,
      "outputs": []
    },
    {
      "cell_type": "code",
      "source": [
        "type(capitais)"
      ],
      "metadata": {
        "colab": {
          "base_uri": "https://localhost:8080/"
        },
        "id": "w2ZXyoW1Ls61",
        "outputId": "73eed4f7-8e1a-4718-9fc1-624a2ceac242"
      },
      "execution_count": 23,
      "outputs": [
        {
          "output_type": "execute_result",
          "data": {
            "text/plain": [
              "dict"
            ]
          },
          "metadata": {},
          "execution_count": 23
        }
      ]
    },
    {
      "cell_type": "code",
      "source": [
        "serie3 = pd.Series(capitais)\n",
        "serie3"
      ],
      "metadata": {
        "colab": {
          "base_uri": "https://localhost:8080/"
        },
        "id": "kxzrGtW0VLjp",
        "outputId": "8f8343b6-dfa1-477d-b626-2cec01d18672"
      },
      "execution_count": 24,
      "outputs": [
        {
          "output_type": "execute_result",
          "data": {
            "text/plain": [
              "Pernambuco         Recife\n",
              "Paraiba       João Pessoa\n",
              "Ceará           Fortaleza\n",
              "Bahia            Salvador\n",
              "Alagoas            Maceió\n",
              "dtype: object"
            ]
          },
          "metadata": {},
          "execution_count": 24
        }
      ]
    },
    {
      "cell_type": "code",
      "source": [
        "dictEmpresas = {\n",
        "    'Apple': 947.062,\n",
        "    'Google': 819.573,\n",
        "    'Amazon': 705.646,\n",
        "    'Microsof': 611.460,\n",
        "    'Tencent': 214.023,\n",
        "    'McDonalds': 196.526,\n",
        "    'Visa': 191.032,\n",
        "    'Facebook': 186.421,\n",
        "    'Alibaba': 169.966,\n",
        "    'Louis Vuitton': 124.273\n",
        "}"
      ],
      "metadata": {
        "id": "qWydFZbLVLmP"
      },
      "execution_count": 25,
      "outputs": []
    },
    {
      "cell_type": "code",
      "source": [
        "serie4 = pd.Series(dictEmpresas)\n",
        "serie4"
      ],
      "metadata": {
        "colab": {
          "base_uri": "https://localhost:8080/"
        },
        "id": "tIJKanFeVLoj",
        "outputId": "0f9232d7-8900-4ee2-b224-0f28cc67794a"
      },
      "execution_count": 27,
      "outputs": [
        {
          "output_type": "execute_result",
          "data": {
            "text/plain": [
              "Apple            947.062\n",
              "Google           819.573\n",
              "Amazon           705.646\n",
              "Microsof         611.460\n",
              "Tencent          214.023\n",
              "McDonalds        196.526\n",
              "Visa             191.032\n",
              "Facebook         186.421\n",
              "Alibaba          169.966\n",
              "Louis Vuitton    124.273\n",
              "dtype: float64"
            ]
          },
          "metadata": {},
          "execution_count": 27
        }
      ]
    },
    {
      "cell_type": "code",
      "source": [
        "empresas = ['Apple', 'Google', 'Amazon', 'Microsoft', 'Tecent', 'McDonalds', 'Visa', 'Facebook', 'Alibaba', 'Louis Vuiton']"
      ],
      "metadata": {
        "id": "jKTfdiwpVLxf"
      },
      "execution_count": 28,
      "outputs": []
    },
    {
      "cell_type": "code",
      "source": [
        "bilhoes = [947.062, 819.573, 705.646, 611.460, 214.023, 196.526, 191.032, 186.421, 169.966, 124.273]"
      ],
      "metadata": {
        "id": "7W39OlQnVL0T"
      },
      "execution_count": 29,
      "outputs": []
    },
    {
      "cell_type": "code",
      "source": [
        "serie5 = pd.Series(bilhoes, index=empresas)\n",
        "serie5"
      ],
      "metadata": {
        "colab": {
          "base_uri": "https://localhost:8080/"
        },
        "id": "RtCsqkZHVL26",
        "outputId": "7024974b-5a6a-45ff-f0a1-11449a1aabbf"
      },
      "execution_count": 30,
      "outputs": [
        {
          "output_type": "execute_result",
          "data": {
            "text/plain": [
              "Apple           947.062\n",
              "Google          819.573\n",
              "Amazon          705.646\n",
              "Microsoft       611.460\n",
              "Tecent          214.023\n",
              "McDonalds       196.526\n",
              "Visa            191.032\n",
              "Facebook        186.421\n",
              "Alibaba         169.966\n",
              "Louis Vuiton    124.273\n",
              "dtype: float64"
            ]
          },
          "metadata": {},
          "execution_count": 30
        }
      ]
    },
    {
      "cell_type": "code",
      "source": [
        "import matplotlib.pyplot as plt\n"
      ],
      "metadata": {
        "id": "bYTs6n3zVL5i"
      },
      "execution_count": 31,
      "outputs": []
    },
    {
      "cell_type": "code",
      "source": [
        "serie5.plot()"
      ],
      "metadata": {
        "colab": {
          "base_uri": "https://localhost:8080/",
          "height": 282
        },
        "id": "jKZPdg8PVMDK",
        "outputId": "be443d66-e490-4064-a34f-9e94e84aa079"
      },
      "execution_count": 32,
      "outputs": [
        {
          "output_type": "execute_result",
          "data": {
            "text/plain": [
              "<matplotlib.axes._subplots.AxesSubplot at 0x7fd8702cb1d0>"
            ]
          },
          "metadata": {},
          "execution_count": 32
        },
        {
          "output_type": "display_data",
          "data": {
            "text/plain": [
              "<Figure size 432x288 with 1 Axes>"
            ],
            "image/png": "[encoded data removed]"
          },
          "metadata": {
            "needs_background": "light"
          }
        }
      ]
    },
    {
      "cell_type": "code",
      "source": [
        "serie5.plot(kind = 'bar')"
      ],
      "metadata": {
        "colab": {
          "base_uri": "https://localhost:8080/",
          "height": 333
        },
        "id": "fqahDChaVMFw",
        "outputId": "3d8394f6-bed6-4676-ac2b-1e9f713e65db"
      },
      "execution_count": 33,
      "outputs": [
        {
          "output_type": "execute_result",
          "data": {
            "text/plain": [
              "<matplotlib.axes._subplots.AxesSubplot at 0x7fd86f8dc290>"
            ]
          },
          "metadata": {},
          "execution_count": 33
        },
        {
          "output_type": "display_data",
          "data": {
            "text/plain": [
              "<Figure size 432x288 with 1 Axes>"
            ],
            "image/png": "[encoded data removed]"
          },
          "metadata": {
            "needs_background": "light"
          }
        }
      ]
    },
    {
      "cell_type": "code",
      "source": [],
      "metadata": {
        "id": "m9Ll61BXVMIE"
      },
      "execution_count": null,
      "outputs": []
    },
    {
      "cell_type": "code",
      "source": [],
      "metadata": {
        "id": "m9_1T3SjdBgF"
      },
      "execution_count": null,
      "outputs": []
    },
    {
      "cell_type": "code",
      "source": [],
      "metadata": {
        "id": "Oin-5oRBdBiV"
      },
      "execution_count": null,
      "outputs": []
    },
    {
      "cell_type": "code",
      "source": [],
      "metadata": {
        "id": "De5BYeJ2dBlJ"
      },
      "execution_count": null,
      "outputs": []
    },
    {
      "cell_type": "code",
      "source": [],
      "metadata": {
        "id": "b_9hckr7dBo6"
      },
      "execution_count": null,
      "outputs": []
    }
  ]
}